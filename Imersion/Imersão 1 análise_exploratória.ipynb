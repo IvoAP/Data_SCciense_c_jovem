{
 "cells": [
  {
   "cell_type": "markdown",
   "metadata": {
    "id": "EIk_xR1lW9zv"
   },
   "source": [
    "# **Análise Exploratória de Dados em Python**\n",
    "## **Introdução**\n",
    "Nesta atividade, vamos realizar uma **Análise Exploratória de Dados (EDA)** utilizando um conjunto de dados de **vendas e e-commerce**. O objetivo é compreender padrões de compra, comportamento do consumidor e tendências de mercado. Como parte da atividade, construiremos um **dashboard interativo** para visualizar as principais métricas e insights dos dados.\n",
    "\n",
    "\n",
    "## **Sumário da Atividade**\n",
    "1. **Escolha do Dataset e Definição do Problema**\n",
    "   - Apresentação do conjunto de dados\n",
    "   - Perguntas que podem ser respondidas com os dados\n",
    "\n",
    "2. **Pré-processamento dos Dados**\n",
    "   - Carregamento e inspeção inicial\n",
    "   - Tratamento de valores ausentes e duplicados\n",
    "   - Transformação e limpeza dos dados\n",
    "\n",
    "3. **Análise Exploratória dos Dados**\n",
    "   - Estatísticas descritivas\n",
    "   - Visualizações de distribuições, correlações e tendências\n",
    "   - Identificação de outliers\n",
    "4. **Construção do Dashboard Interativo**\n",
    "   - Introdução a bibliotecas para dashboards\n",
    "   - Estrutura do dashboard\n",
    "   - Implementação de gráficos interativos e filtros\n",
    "\n",
    "5. **Interpretação dos Resultados e Conclusão**\n",
    "   - Principais insights obtidos\n",
    "   - Discussão sobre o impacto dos achados\n",
    "\n",
    "\n"
   ]
  },
  {
   "cell_type": "markdown",
   "metadata": {
    "id": "sXvAZ0b4XlxD"
   },
   "source": [
    "# **Atividade 1: Carregamento e Inspeção Inicial dos Dados**\n",
    "\n",
    "## **Objetivo**\n",
    "Nesta atividade, vamos carregar o conjunto de dados de **vendas e e-commerce**, inspecionar sua estrutura e identificar possíveis problemas como valores ausentes ou duplicados. Isso nos ajudará a entender a qualidade dos dados antes de prosseguir com a análise exploratória.\n",
    "\n",
    "\n",
    "\n",
    "\n",
    "\n"
   ]
  },
  {
   "cell_type": "markdown",
   "metadata": {
    "id": "LmD_mlL7YdcB"
   },
   "source": [
    "## **Importar Bibliotecas**\n",
    "Primeiro, vamos importar as bibliotecas essenciais para manipulação e visualização de dados.\n"
   ]
  },
  {
   "cell_type": "code",
   "execution_count": 2,
   "metadata": {
    "id": "di5NJ2i9WsSh"
   },
   "outputs": [],
   "source": [
    "import pandas as pd\n",
    "import matplotlib.pyplot as plt\n",
    "import seaborn as sns"
   ]
  },
  {
   "cell_type": "markdown",
   "metadata": {
    "id": "xDqFCw4oYQkK"
   },
   "source": [
    "## **Carregar o Conjunto de Dados**"
   ]
  },
  {
   "cell_type": "markdown",
   "metadata": {
    "id": "_N1d7lXmbQ76"
   },
   "source": [
    "## **Descrição do Dataset**\n",
    "O conjunto de dados que utilizaremos nesta atividade contém informações sobre transações de um e-commerce brasileiro. Ele foi coletado a partir de pedidos realizados na **Olist Store**, uma plataforma que conecta pequenos lojistas a grandes marketplaces no Brasil.  \n",
    "\n",
    "O dataset inclui dados detalhados sobre cada pedido, como:\n",
    "- **Informações do pedido**: ID do pedido, data da compra e status da entrega.\n",
    "- **Detalhes do pagamento**: Tipo de pagamento, número de parcelas e valor total.\n",
    "- **Dados do cliente**: Localização do cliente (cidade e estado).\n",
    "- **Informações do produto**: Categoria, preço, peso e dimensões do item.\n",
    "- **Dados logísticos**: Tempo estimado e real de entrega.\n",
    "\n",
    "## **Objetivo da Análise**\n",
    "O objetivo desta atividade é realizar uma **Análise Exploratória de Dados (EDA)** para identificar padrões de compra, comportamento do consumidor e tendências de mercado. Utilizaremos técnicas estatísticas e visualizações gráficas para responder perguntas como:\n",
    "- Quais produtos são mais vendidos?\n",
    "- Qual o ticket médio dos pedidos?\n",
    "- Como as vendas variam ao longo do tempo?\n",
    "- Qual o tempo médio de entrega dos pedidos?\n",
    "- Existe diferença no volume de vendas entre estados e cidades?\n",
    "\n",
    "Esses insights são fundamentais para ajudar lojistas e gestores a tomarem decisões estratégicas sobre preços, logística e atendimento ao cliente.\n",
    "\n",
    "## **Fonte dos Dados**\n",
    "Este conjunto de dados faz parte do **Brazilian E-Commerce Public Dataset by Olist**, disponível publicamente no Kaggle. Ele foi amplamente utilizado para análises de negócios e ciência de dados, oferecendo um panorama realista do comércio eletrônico no Brasil.\n",
    "\n"
   ]
  },
  {
   "cell_type": "code",
   "execution_count": 3,
   "metadata": {
    "colab": {
     "base_uri": "https://localhost:8080/",
     "height": 323
    },
    "id": "LBHRSy60YaHU",
    "outputId": "d7131e0b-db5c-4e71-b031-9309298b6221"
   },
   "outputs": [
    {
     "name": "stdout",
     "output_type": "stream",
     "text": [
      "Dataset de Vendas e E-commerce carregado com sucesso!\n"
     ]
    },
    {
     "data": {
      "text/html": [
       "<div>\n",
       "<style scoped>\n",
       "    .dataframe tbody tr th:only-of-type {\n",
       "        vertical-align: middle;\n",
       "    }\n",
       "\n",
       "    .dataframe tbody tr th {\n",
       "        vertical-align: top;\n",
       "    }\n",
       "\n",
       "    .dataframe thead th {\n",
       "        text-align: right;\n",
       "    }\n",
       "</style>\n",
       "<table border=\"1\" class=\"dataframe\">\n",
       "  <thead>\n",
       "    <tr style=\"text-align: right;\">\n",
       "      <th></th>\n",
       "      <th>category</th>\n",
       "      <th>currency</th>\n",
       "      <th>customer_first_name</th>\n",
       "      <th>customer_full_name</th>\n",
       "      <th>customer_gender</th>\n",
       "      <th>customer_id</th>\n",
       "      <th>customer_last_name</th>\n",
       "      <th>customer_phone</th>\n",
       "      <th>day_of_week</th>\n",
       "      <th>day_of_week_i</th>\n",
       "      <th>email</th>\n",
       "      <th>geoip.city_name</th>\n",
       "      <th>geoip.continent_name</th>\n",
       "      <th>geoip.country_iso_code</th>\n",
       "      <th>geoip.location</th>\n",
       "      <th>geoip.region_name</th>\n",
       "      <th>manufacturer</th>\n",
       "      <th>order_date</th>\n",
       "      <th>order_id</th>\n",
       "      <th>products</th>\n",
       "      <th>products.created_on</th>\n",
       "      <th>sku</th>\n",
       "      <th>taxful_total_price</th>\n",
       "      <th>taxless_total_price</th>\n",
       "      <th>total_quantity</th>\n",
       "      <th>total_unique_products</th>\n",
       "      <th>type</th>\n",
       "      <th>user</th>\n",
       "    </tr>\n",
       "  </thead>\n",
       "  <tbody>\n",
       "    <tr>\n",
       "      <th>0</th>\n",
       "      <td>[\"Women's Clothing\"]</td>\n",
       "      <td>EUR</td>\n",
       "      <td>Wilhemina St.</td>\n",
       "      <td>Wilhemina St. Love</td>\n",
       "      <td>FEMALE</td>\n",
       "      <td>17</td>\n",
       "      <td>Love</td>\n",
       "      <td>NaN</td>\n",
       "      <td>Saturday</td>\n",
       "      <td>5</td>\n",
       "      <td>wilhemina st.@love-family.zzz</td>\n",
       "      <td>Monte Carlo</td>\n",
       "      <td>Europe</td>\n",
       "      <td>MC</td>\n",
       "      <td>{\\n  \"lon\": 7.4,\\n  \"lat\": 43.7\\n}</td>\n",
       "      <td>NaN</td>\n",
       "      <td>[\"Spherecords\",\"Oceanavigations\"]</td>\n",
       "      <td>March 30th 2019, 16:12:00.000</td>\n",
       "      <td>572956</td>\n",
       "      <td>[{\"base_price\":9.99,\"discount_percentage\":0,\"q...</td>\n",
       "      <td>[\"December 17th 2016, 16:12:00.000\",\"December ...</td>\n",
       "      <td>[\"ZO0635406354\",\"ZO0267202672\"]</td>\n",
       "      <td>$59.98</td>\n",
       "      <td>59.98</td>\n",
       "      <td>2</td>\n",
       "      <td>2</td>\n",
       "      <td>order</td>\n",
       "      <td>wilhemina</td>\n",
       "    </tr>\n",
       "    <tr>\n",
       "      <th>1</th>\n",
       "      <td>[\"Men's Shoes\",\"Men's Clothing\"]</td>\n",
       "      <td>EUR</td>\n",
       "      <td>Mostafa</td>\n",
       "      <td>Mostafa Watkins</td>\n",
       "      <td>MALE</td>\n",
       "      <td>9</td>\n",
       "      <td>Watkins</td>\n",
       "      <td>NaN</td>\n",
       "      <td>Saturday</td>\n",
       "      <td>5</td>\n",
       "      <td>mostafa@watkins-family.zzz</td>\n",
       "      <td>Cairo</td>\n",
       "      <td>Africa</td>\n",
       "      <td>EG</td>\n",
       "      <td>{\\n  \"lon\": 31.3,\\n  \"lat\": 30.1\\n}</td>\n",
       "      <td>Cairo Governorate</td>\n",
       "      <td>[\"Low Tide Media\"]</td>\n",
       "      <td>March 30th 2019, 16:03:22.000</td>\n",
       "      <td>572949</td>\n",
       "      <td>[{\"base_price\":49.99,\"discount_percentage\":0,\"...</td>\n",
       "      <td>[\"December 17th 2016, 16:03:22.000\",\"December ...</td>\n",
       "      <td>[\"ZO0398203982\",\"ZO0436904369\"]</td>\n",
       "      <td>$60.98</td>\n",
       "      <td>60.98</td>\n",
       "      <td>2</td>\n",
       "      <td>2</td>\n",
       "      <td>order</td>\n",
       "      <td>mostafa</td>\n",
       "    </tr>\n",
       "  </tbody>\n",
       "</table>\n",
       "</div>"
      ],
      "text/plain": [
       "                           category currency customer_first_name  \\\n",
       "0              [\"Women's Clothing\"]      EUR       Wilhemina St.   \n",
       "1  [\"Men's Shoes\",\"Men's Clothing\"]      EUR             Mostafa   \n",
       "\n",
       "   customer_full_name customer_gender  customer_id customer_last_name  \\\n",
       "0  Wilhemina St. Love          FEMALE           17               Love   \n",
       "1     Mostafa Watkins            MALE            9            Watkins   \n",
       "\n",
       "   customer_phone day_of_week  day_of_week_i                          email  \\\n",
       "0             NaN    Saturday              5  wilhemina st.@love-family.zzz   \n",
       "1             NaN    Saturday              5     mostafa@watkins-family.zzz   \n",
       "\n",
       "  geoip.city_name geoip.continent_name geoip.country_iso_code  \\\n",
       "0     Monte Carlo               Europe                     MC   \n",
       "1           Cairo               Africa                     EG   \n",
       "\n",
       "                        geoip.location  geoip.region_name  \\\n",
       "0   {\\n  \"lon\": 7.4,\\n  \"lat\": 43.7\\n}                NaN   \n",
       "1  {\\n  \"lon\": 31.3,\\n  \"lat\": 30.1\\n}  Cairo Governorate   \n",
       "\n",
       "                        manufacturer                     order_date  order_id  \\\n",
       "0  [\"Spherecords\",\"Oceanavigations\"]  March 30th 2019, 16:12:00.000    572956   \n",
       "1                 [\"Low Tide Media\"]  March 30th 2019, 16:03:22.000    572949   \n",
       "\n",
       "                                            products  \\\n",
       "0  [{\"base_price\":9.99,\"discount_percentage\":0,\"q...   \n",
       "1  [{\"base_price\":49.99,\"discount_percentage\":0,\"...   \n",
       "\n",
       "                                 products.created_on  \\\n",
       "0  [\"December 17th 2016, 16:12:00.000\",\"December ...   \n",
       "1  [\"December 17th 2016, 16:03:22.000\",\"December ...   \n",
       "\n",
       "                               sku taxful_total_price  taxless_total_price  \\\n",
       "0  [\"ZO0635406354\",\"ZO0267202672\"]            $59.98                 59.98   \n",
       "1  [\"ZO0398203982\",\"ZO0436904369\"]            $60.98                 60.98   \n",
       "\n",
       "   total_quantity  total_unique_products   type       user  \n",
       "0               2                      2  order  wilhemina  \n",
       "1               2                      2  order    mostafa  "
      ]
     },
     "execution_count": 3,
     "metadata": {},
     "output_type": "execute_result"
    }
   ],
   "source": [
    "# URL do dataset de Vendas e E-commerce\n",
    "url_vendas = 'https://raw.githubusercontent.com/mdrilwan/datasets/master/ecommerce.csv'\n",
    "\n",
    "# Carregar o dataset principal\n",
    "df = pd.read_csv(url_vendas)\n",
    "print(\"Dataset de Vendas e E-commerce carregado com sucesso!\")\n",
    "\n",
    "# Configurar Pandas para exibir todas as colunas\n",
    "pd.set_option('display.max_columns', None)\n",
    "df.head(2)"
   ]
  },
  {
   "cell_type": "markdown",
   "metadata": {
    "id": "UQav2LZpaoS3"
   },
   "source": [
    "## **Inspecionar a Estrutura dos Dados**"
   ]
  },
  {
   "cell_type": "code",
   "execution_count": 4,
   "metadata": {
    "colab": {
     "base_uri": "https://localhost:8080/",
     "height": 908
    },
    "id": "pDys_DO6Zlxv",
    "outputId": "56c8cb5e-53be-485c-e93e-326e312f3cee"
   },
   "outputs": [
    {
     "name": "stdout",
     "output_type": "stream",
     "text": [
      "<class 'pandas.core.frame.DataFrame'>\n",
      "RangeIndex: 153 entries, 0 to 152\n",
      "Data columns (total 28 columns):\n",
      " #   Column                  Non-Null Count  Dtype  \n",
      "---  ------                  --------------  -----  \n",
      " 0   category                153 non-null    object \n",
      " 1   currency                153 non-null    object \n",
      " 2   customer_first_name     153 non-null    object \n",
      " 3   customer_full_name      153 non-null    object \n",
      " 4   customer_gender         153 non-null    object \n",
      " 5   customer_id             153 non-null    int64  \n",
      " 6   customer_last_name      153 non-null    object \n",
      " 7   customer_phone          0 non-null      float64\n",
      " 8   day_of_week             153 non-null    object \n",
      " 9   day_of_week_i           153 non-null    int64  \n",
      " 10  email                   153 non-null    object \n",
      " 11  geoip.city_name         135 non-null    object \n",
      " 12  geoip.continent_name    153 non-null    object \n",
      " 13  geoip.country_iso_code  153 non-null    object \n",
      " 14  geoip.location          153 non-null    object \n",
      " 15  geoip.region_name       126 non-null    object \n",
      " 16  manufacturer            153 non-null    object \n",
      " 17  order_date              153 non-null    object \n",
      " 18  order_id                153 non-null    int64  \n",
      " 19  products                153 non-null    object \n",
      " 20  products.created_on     153 non-null    object \n",
      " 21  sku                     153 non-null    object \n",
      " 22  taxful_total_price      153 non-null    object \n",
      " 23  taxless_total_price     153 non-null    float64\n",
      " 24  total_quantity          153 non-null    int64  \n",
      " 25  total_unique_products   153 non-null    int64  \n",
      " 26  type                    153 non-null    object \n",
      " 27  user                    153 non-null    object \n",
      "dtypes: float64(2), int64(5), object(21)\n",
      "memory usage: 33.6+ KB\n"
     ]
    },
    {
     "data": {
      "text/html": [
       "<div>\n",
       "<style scoped>\n",
       "    .dataframe tbody tr th:only-of-type {\n",
       "        vertical-align: middle;\n",
       "    }\n",
       "\n",
       "    .dataframe tbody tr th {\n",
       "        vertical-align: top;\n",
       "    }\n",
       "\n",
       "    .dataframe thead th {\n",
       "        text-align: right;\n",
       "    }\n",
       "</style>\n",
       "<table border=\"1\" class=\"dataframe\">\n",
       "  <thead>\n",
       "    <tr style=\"text-align: right;\">\n",
       "      <th></th>\n",
       "      <th>customer_id</th>\n",
       "      <th>customer_phone</th>\n",
       "      <th>day_of_week_i</th>\n",
       "      <th>order_id</th>\n",
       "      <th>taxless_total_price</th>\n",
       "      <th>total_quantity</th>\n",
       "      <th>total_unique_products</th>\n",
       "    </tr>\n",
       "  </thead>\n",
       "  <tbody>\n",
       "    <tr>\n",
       "      <th>count</th>\n",
       "      <td>153.000000</td>\n",
       "      <td>0.0</td>\n",
       "      <td>153.000000</td>\n",
       "      <td>153.000000</td>\n",
       "      <td>153.000000</td>\n",
       "      <td>153.000000</td>\n",
       "      <td>153.000000</td>\n",
       "    </tr>\n",
       "    <tr>\n",
       "      <th>mean</th>\n",
       "      <td>27.307190</td>\n",
       "      <td>NaN</td>\n",
       "      <td>4.712418</td>\n",
       "      <td>585096.189542</td>\n",
       "      <td>70.600000</td>\n",
       "      <td>2.091503</td>\n",
       "      <td>2.091503</td>\n",
       "    </tr>\n",
       "    <tr>\n",
       "      <th>std</th>\n",
       "      <td>15.649652</td>\n",
       "      <td>NaN</td>\n",
       "      <td>0.454122</td>\n",
       "      <td>42243.525253</td>\n",
       "      <td>37.798441</td>\n",
       "      <td>0.504708</td>\n",
       "      <td>0.504708</td>\n",
       "    </tr>\n",
       "    <tr>\n",
       "      <th>min</th>\n",
       "      <td>4.000000</td>\n",
       "      <td>NaN</td>\n",
       "      <td>4.000000</td>\n",
       "      <td>571599.000000</td>\n",
       "      <td>18.980000</td>\n",
       "      <td>1.000000</td>\n",
       "      <td>1.000000</td>\n",
       "    </tr>\n",
       "    <tr>\n",
       "      <th>25%</th>\n",
       "      <td>13.000000</td>\n",
       "      <td>NaN</td>\n",
       "      <td>4.000000</td>\n",
       "      <td>571986.000000</td>\n",
       "      <td>44.980000</td>\n",
       "      <td>2.000000</td>\n",
       "      <td>2.000000</td>\n",
       "    </tr>\n",
       "    <tr>\n",
       "      <th>50%</th>\n",
       "      <td>26.000000</td>\n",
       "      <td>NaN</td>\n",
       "      <td>5.000000</td>\n",
       "      <td>572386.000000</td>\n",
       "      <td>60.980000</td>\n",
       "      <td>2.000000</td>\n",
       "      <td>2.000000</td>\n",
       "    </tr>\n",
       "    <tr>\n",
       "      <th>75%</th>\n",
       "      <td>43.000000</td>\n",
       "      <td>NaN</td>\n",
       "      <td>5.000000</td>\n",
       "      <td>572706.000000</td>\n",
       "      <td>85.980000</td>\n",
       "      <td>2.000000</td>\n",
       "      <td>2.000000</td>\n",
       "    </tr>\n",
       "    <tr>\n",
       "      <th>max</th>\n",
       "      <td>52.000000</td>\n",
       "      <td>NaN</td>\n",
       "      <td>5.000000</td>\n",
       "      <td>739871.000000</td>\n",
       "      <td>242.960000</td>\n",
       "      <td>4.000000</td>\n",
       "      <td>4.000000</td>\n",
       "    </tr>\n",
       "  </tbody>\n",
       "</table>\n",
       "</div>"
      ],
      "text/plain": [
       "       customer_id  customer_phone  day_of_week_i       order_id  \\\n",
       "count   153.000000             0.0     153.000000     153.000000   \n",
       "mean     27.307190             NaN       4.712418  585096.189542   \n",
       "std      15.649652             NaN       0.454122   42243.525253   \n",
       "min       4.000000             NaN       4.000000  571599.000000   \n",
       "25%      13.000000             NaN       4.000000  571986.000000   \n",
       "50%      26.000000             NaN       5.000000  572386.000000   \n",
       "75%      43.000000             NaN       5.000000  572706.000000   \n",
       "max      52.000000             NaN       5.000000  739871.000000   \n",
       "\n",
       "       taxless_total_price  total_quantity  total_unique_products  \n",
       "count           153.000000      153.000000             153.000000  \n",
       "mean             70.600000        2.091503               2.091503  \n",
       "std              37.798441        0.504708               0.504708  \n",
       "min              18.980000        1.000000               1.000000  \n",
       "25%              44.980000        2.000000               2.000000  \n",
       "50%              60.980000        2.000000               2.000000  \n",
       "75%              85.980000        2.000000               2.000000  \n",
       "max             242.960000        4.000000               4.000000  "
      ]
     },
     "execution_count": 4,
     "metadata": {},
     "output_type": "execute_result"
    }
   ],
   "source": [
    "pd.set_option('display.max_columns', None)\n",
    "# Exibir informações gerais sobre o dataset\n",
    "df.info()\n",
    "\n",
    "# Exibir estatísticas descritivas\n",
    "df.describe()\n"
   ]
  },
  {
   "cell_type": "markdown",
   "metadata": {
    "id": "BjeLOVwxbhMa"
   },
   "source": [
    "## **Verificar Valores Ausentes**"
   ]
  },
  {
   "cell_type": "code",
   "execution_count": 5,
   "metadata": {
    "colab": {
     "base_uri": "https://localhost:8080/",
     "height": 178
    },
    "id": "toSF3oUgb13A",
    "outputId": "29db99a6-c599-4fd6-916c-15046c91e60b"
   },
   "outputs": [
    {
     "data": {
      "text/plain": [
       "customer_phone       153\n",
       "geoip.city_name       18\n",
       "geoip.region_name     27\n",
       "dtype: int64"
      ]
     },
     "execution_count": 5,
     "metadata": {},
     "output_type": "execute_result"
    }
   ],
   "source": [
    "# Contar valores ausentes por coluna\n",
    "missing_values = df.isnull().sum()\n",
    "\n",
    "# Exibir apenas colunas com valores ausentes\n",
    "missing_values[missing_values > 0]\n"
   ]
  },
  {
   "cell_type": "markdown",
   "metadata": {
    "id": "mC6BddUIb9Wl"
   },
   "source": [
    "## **Verificar Valores Duplicados**"
   ]
  },
  {
   "cell_type": "code",
   "execution_count": 6,
   "metadata": {
    "colab": {
     "base_uri": "https://localhost:8080/"
    },
    "id": "ZE1mqpVacBcU",
    "outputId": "74a76029-28a9-4a07-8b9a-c1a76d81f52e"
   },
   "outputs": [
    {
     "name": "stdout",
     "output_type": "stream",
     "text": [
      "Número de registros duplicados: 0\n"
     ]
    }
   ],
   "source": [
    "# Contar registros duplicados\n",
    "num_duplicated = df.duplicated().sum()\n",
    "\n",
    "print(f\"Número de registros duplicados: {num_duplicated}\")\n",
    "\n",
    "# Exibir registros duplicados, se houver\n",
    "if num_duplicated > 0:\n",
    "    df[df.duplicated()]\n"
   ]
  },
  {
   "cell_type": "markdown",
   "metadata": {
    "id": "25lMSOjqeTk0"
   },
   "source": [
    "# **Atividade 2: Tratamento e Limpeza dos Dados**\n",
    "\n",
    "## **Objetivo**\n",
    "Nesta atividade, vamos tratar e limpar os dados para garantir que estejam prontos para a análise exploratória. O foco será:\n",
    "- Remover valores ausentes e duplicados.\n",
    "- Corrigir tipos de dados, se necessário.\n",
    "- Tratar valores inconsistentes ou fora do esperado.\n",
    "\n",
    "\n",
    "\n"
   ]
  },
  {
   "cell_type": "markdown",
   "metadata": {
    "id": "3IaZUniGet11"
   },
   "source": [
    "\n",
    "## **Remoção de Valores Ausentes**\n",
    "Na **Atividade 1**, identificamos colunas com valores ausentes. Agora, vamos definir a melhor estratégia para lidar com esses dados.\n",
    "\n",
    "\n"
   ]
  },
  {
   "cell_type": "code",
   "execution_count": 7,
   "metadata": {
    "colab": {
     "base_uri": "https://localhost:8080/"
    },
    "id": "rvdqWOmyevS4",
    "outputId": "dd4eae07-98bd-4671-9c2a-c595fdb4f6c3"
   },
   "outputs": [
    {
     "name": "stdout",
     "output_type": "stream",
     "text": [
      "Valores ausentes por coluna:\n",
      "customer_phone       153\n",
      "geoip.city_name       18\n",
      "geoip.region_name     27\n",
      "dtype: int64\n"
     ]
    }
   ],
   "source": [
    "# Verificar novamente os valores ausentes\n",
    "missing_values = df.isnull().sum()\n",
    "print(\"Valores ausentes por coluna:\")\n",
    "print(missing_values[missing_values > 0])"
   ]
  },
  {
   "cell_type": "markdown",
   "metadata": {
    "id": "3kNUYpgHffs8"
   },
   "source": [
    "**Opções de Tratamento**\n",
    "\n",
    "Se a quantidade de valores ausentes for pequena, podemos remover essas linhas.\n",
    "Se houver muitas ausências, podemos preencher com valores apropriados (ex: média, mediana ou categoria \"desconhecida\")."
   ]
  },
  {
   "cell_type": "code",
   "execution_count": 8,
   "metadata": {
    "colab": {
     "base_uri": "https://localhost:8080/"
    },
    "id": "eiHy_JNde1B5",
    "outputId": "20a33eb5-fd2a-4bed-8c16-f12f3b71599d"
   },
   "outputs": [
    {
     "name": "stdout",
     "output_type": "stream",
     "text": [
      "Valores ausentes após tratamento:\n",
      "0\n"
     ]
    }
   ],
   "source": [
    "# Preencher valores ausentes em colunas categóricas com \"desconhecido\"\n",
    "categorical_cols = df.select_dtypes(include=['object']).columns\n",
    "df[categorical_cols] = df[categorical_cols].fillna(\"desconhecido\")\n",
    "\n",
    "df = df.drop(columns=['customer_phone'])\n",
    "\n",
    "# Verificar se os valores ausentes foram tratados\n",
    "print(\"Valores ausentes após tratamento:\")\n",
    "print(df.isnull().sum().sum())  # Deve retornar 0 se tudo foi preenchido\n"
   ]
  },
  {
   "cell_type": "code",
   "execution_count": 9,
   "metadata": {
    "colab": {
     "base_uri": "https://localhost:8080/"
    },
    "id": "CIqR1Nn_hEEI",
    "outputId": "c2bb5ede-0d66-467a-d516-9143fbe542b1"
   },
   "outputs": [
    {
     "name": "stdout",
     "output_type": "stream",
     "text": [
      "<class 'pandas.core.frame.DataFrame'>\n",
      "RangeIndex: 153 entries, 0 to 152\n",
      "Data columns (total 27 columns):\n",
      " #   Column                  Non-Null Count  Dtype  \n",
      "---  ------                  --------------  -----  \n",
      " 0   category                153 non-null    object \n",
      " 1   currency                153 non-null    object \n",
      " 2   customer_first_name     153 non-null    object \n",
      " 3   customer_full_name      153 non-null    object \n",
      " 4   customer_gender         153 non-null    object \n",
      " 5   customer_id             153 non-null    int64  \n",
      " 6   customer_last_name      153 non-null    object \n",
      " 7   day_of_week             153 non-null    object \n",
      " 8   day_of_week_i           153 non-null    int64  \n",
      " 9   email                   153 non-null    object \n",
      " 10  geoip.city_name         153 non-null    object \n",
      " 11  geoip.continent_name    153 non-null    object \n",
      " 12  geoip.country_iso_code  153 non-null    object \n",
      " 13  geoip.location          153 non-null    object \n",
      " 14  geoip.region_name       153 non-null    object \n",
      " 15  manufacturer            153 non-null    object \n",
      " 16  order_date              153 non-null    object \n",
      " 17  order_id                153 non-null    int64  \n",
      " 18  products                153 non-null    object \n",
      " 19  products.created_on     153 non-null    object \n",
      " 20  sku                     153 non-null    object \n",
      " 21  taxful_total_price      153 non-null    object \n",
      " 22  taxless_total_price     153 non-null    float64\n",
      " 23  total_quantity          153 non-null    int64  \n",
      " 24  total_unique_products   153 non-null    int64  \n",
      " 25  type                    153 non-null    object \n",
      " 26  user                    153 non-null    object \n",
      "dtypes: float64(1), int64(5), object(21)\n",
      "memory usage: 32.4+ KB\n"
     ]
    }
   ],
   "source": [
    "df.info()"
   ]
  },
  {
   "cell_type": "markdown",
   "metadata": {
    "id": "LqDUnKfchV_W"
   },
   "source": [
    "## **Correção de Tipos de Dados**"
   ]
  },
  {
   "cell_type": "code",
   "execution_count": 10,
   "metadata": {
    "colab": {
     "base_uri": "https://localhost:8080/",
     "height": 241
    },
    "id": "ZiXKcm5zh2TX",
    "outputId": "468e9a87-d10c-4af4-818d-30dac15ef821"
   },
   "outputs": [
    {
     "data": {
      "text/plain": [
       "0    March 30th 2019, 16:12:00.000\n",
       "1    March 30th 2019, 16:03:22.000\n",
       "2    March 30th 2019, 16:00:29.000\n",
       "3    March 30th 2019, 15:43:12.000\n",
       "4    March 30th 2019, 15:41:46.000\n",
       "Name: order_date, dtype: object"
      ]
     },
     "execution_count": 10,
     "metadata": {},
     "output_type": "execute_result"
    }
   ],
   "source": [
    "df['order_date'].head()"
   ]
  },
  {
   "cell_type": "code",
   "execution_count": 11,
   "metadata": {
    "colab": {
     "base_uri": "https://localhost:8080/",
     "height": 241
    },
    "id": "X5NnMXrRifC_",
    "outputId": "0174ab32-2e83-47cb-8cf0-d815ae5c47ea"
   },
   "outputs": [
    {
     "data": {
      "text/plain": [
       "0   2019-03-30 16:12:00\n",
       "1   2019-03-30 16:03:22\n",
       "2   2019-03-30 16:00:29\n",
       "3   2019-03-30 15:43:12\n",
       "4   2019-03-30 15:41:46\n",
       "Name: order_date, dtype: datetime64[ns]"
      ]
     },
     "execution_count": 11,
     "metadata": {},
     "output_type": "execute_result"
    }
   ],
   "source": [
    "# Converter a coluna 'order_date' para datetime com o formato correto\n",
    "df['order_date'] = pd.to_datetime(df['order_date'], format='%B %dth %Y, %H:%M:%S.%f')\n",
    "\n",
    "# Exibir as primeiras linhas para confirmar a conversão\n",
    "df['order_date'].head()\n"
   ]
  },
  {
   "cell_type": "code",
   "execution_count": 12,
   "metadata": {
    "colab": {
     "base_uri": "https://localhost:8080/",
     "height": 241
    },
    "id": "6NRFK2AxkDUh",
    "outputId": "b217e1df-0b5f-4f8d-88e7-ce4fe7604f86"
   },
   "outputs": [
    {
     "data": {
      "text/plain": [
       "0     $59.98 \n",
       "1     $60.98 \n",
       "2    $242.96 \n",
       "3     $65.98 \n",
       "4     $37.98 \n",
       "Name: taxful_total_price, dtype: object"
      ]
     },
     "execution_count": 12,
     "metadata": {},
     "output_type": "execute_result"
    }
   ],
   "source": [
    "df['taxful_total_price'].head()"
   ]
  },
  {
   "cell_type": "code",
   "execution_count": 13,
   "metadata": {
    "colab": {
     "base_uri": "https://localhost:8080/",
     "height": 206
    },
    "id": "5Ee_WEIHjpnk",
    "outputId": "c6ed4d54-3c05-44d2-b05c-fd9051b4178e"
   },
   "outputs": [
    {
     "name": "stderr",
     "output_type": "stream",
     "text": [
      "<>:2: SyntaxWarning: invalid escape sequence '\\$'\n",
      "<>:2: SyntaxWarning: invalid escape sequence '\\$'\n",
      "C:\\Users\\ivoag\\AppData\\Local\\Temp\\ipykernel_41000\\2507857367.py:2: SyntaxWarning: invalid escape sequence '\\$'\n",
      "  df['taxful_total_price'] = df['taxful_total_price'].replace('[\\$,]', '', regex=True).astype(float)\n"
     ]
    },
    {
     "data": {
      "text/html": [
       "<div>\n",
       "<style scoped>\n",
       "    .dataframe tbody tr th:only-of-type {\n",
       "        vertical-align: middle;\n",
       "    }\n",
       "\n",
       "    .dataframe tbody tr th {\n",
       "        vertical-align: top;\n",
       "    }\n",
       "\n",
       "    .dataframe thead th {\n",
       "        text-align: right;\n",
       "    }\n",
       "</style>\n",
       "<table border=\"1\" class=\"dataframe\">\n",
       "  <thead>\n",
       "    <tr style=\"text-align: right;\">\n",
       "      <th></th>\n",
       "      <th>taxful_total_price</th>\n",
       "    </tr>\n",
       "  </thead>\n",
       "  <tbody>\n",
       "    <tr>\n",
       "      <th>0</th>\n",
       "      <td>59.98</td>\n",
       "    </tr>\n",
       "    <tr>\n",
       "      <th>1</th>\n",
       "      <td>60.98</td>\n",
       "    </tr>\n",
       "    <tr>\n",
       "      <th>2</th>\n",
       "      <td>242.96</td>\n",
       "    </tr>\n",
       "    <tr>\n",
       "      <th>3</th>\n",
       "      <td>65.98</td>\n",
       "    </tr>\n",
       "    <tr>\n",
       "      <th>4</th>\n",
       "      <td>37.98</td>\n",
       "    </tr>\n",
       "  </tbody>\n",
       "</table>\n",
       "</div>"
      ],
      "text/plain": [
       "   taxful_total_price\n",
       "0               59.98\n",
       "1               60.98\n",
       "2              242.96\n",
       "3               65.98\n",
       "4               37.98"
      ]
     },
     "execution_count": 13,
     "metadata": {},
     "output_type": "execute_result"
    }
   ],
   "source": [
    "# Remover o símbolo de dólar e converter para float\n",
    "df['taxful_total_price'] = df['taxful_total_price'].replace('[\\$,]', '', regex=True).astype(float)\n",
    "\n",
    "# Conferir a conversão\n",
    "df[['taxful_total_price']].head()\n"
   ]
  },
  {
   "cell_type": "code",
   "execution_count": 14,
   "metadata": {
    "colab": {
     "base_uri": "https://localhost:8080/",
     "height": 241
    },
    "id": "42eiWZtAks3G",
    "outputId": "f782dae5-b579-4115-efed-c050e636588d"
   },
   "outputs": [
    {
     "data": {
      "text/plain": [
       "0                                                                          [\"December 17th 2016, 16:12:00.000\",\"December 17th 2016, 16:12:00.000\"]\n",
       "1                                                                          [\"December 17th 2016, 16:03:22.000\",\"December 17th 2016, 16:03:22.000\"]\n",
       "2    [\"December 17th 2016, 16:00:29.000\",\"December 17th 2016, 16:00:29.000\",\"December 17th 2016, 16:00:29.000\",\"December 17th 2016, 16:00:29.000\"]\n",
       "3                                                                          [\"December 17th 2016, 15:43:12.000\",\"December 17th 2016, 15:43:12.000\"]\n",
       "4                                                                          [\"December 17th 2016, 15:41:46.000\",\"December 17th 2016, 15:41:46.000\"]\n",
       "Name: products.created_on, dtype: object"
      ]
     },
     "execution_count": 14,
     "metadata": {},
     "output_type": "execute_result"
    }
   ],
   "source": [
    "# Ajustar a exibição para não truncar os valores da coluna\n",
    "pd.set_option('display.max_colwidth', None)\n",
    "df['products.created_on'].head()"
   ]
  },
  {
   "cell_type": "code",
   "execution_count": 15,
   "metadata": {
    "colab": {
     "base_uri": "https://localhost:8080/",
     "height": 206
    },
    "id": "sNdGBZFLk-PB",
    "outputId": "df44f271-d252-43f9-c06c-9086c8075cc3"
   },
   "outputs": [
    {
     "data": {
      "text/html": [
       "<div>\n",
       "<style scoped>\n",
       "    .dataframe tbody tr th:only-of-type {\n",
       "        vertical-align: middle;\n",
       "    }\n",
       "\n",
       "    .dataframe tbody tr th {\n",
       "        vertical-align: top;\n",
       "    }\n",
       "\n",
       "    .dataframe thead th {\n",
       "        text-align: right;\n",
       "    }\n",
       "</style>\n",
       "<table border=\"1\" class=\"dataframe\">\n",
       "  <thead>\n",
       "    <tr style=\"text-align: right;\">\n",
       "      <th></th>\n",
       "      <th>products.created_on</th>\n",
       "    </tr>\n",
       "  </thead>\n",
       "  <tbody>\n",
       "    <tr>\n",
       "      <th>0</th>\n",
       "      <td>2016-12-17 16:12:00</td>\n",
       "    </tr>\n",
       "    <tr>\n",
       "      <th>1</th>\n",
       "      <td>2016-12-17 16:03:22</td>\n",
       "    </tr>\n",
       "    <tr>\n",
       "      <th>2</th>\n",
       "      <td>2016-12-17 16:00:29</td>\n",
       "    </tr>\n",
       "    <tr>\n",
       "      <th>3</th>\n",
       "      <td>2016-12-17 15:43:12</td>\n",
       "    </tr>\n",
       "    <tr>\n",
       "      <th>4</th>\n",
       "      <td>2016-12-17 15:41:46</td>\n",
       "    </tr>\n",
       "  </tbody>\n",
       "</table>\n",
       "</div>"
      ],
      "text/plain": [
       "  products.created_on\n",
       "0 2016-12-17 16:12:00\n",
       "1 2016-12-17 16:03:22\n",
       "2 2016-12-17 16:00:29\n",
       "3 2016-12-17 15:43:12\n",
       "4 2016-12-17 15:41:46"
      ]
     },
     "execution_count": 15,
     "metadata": {},
     "output_type": "execute_result"
    }
   ],
   "source": [
    "import ast  # Para converter strings de listas em listas reais\n",
    "\n",
    "# Função para limpar e converter para datetime\n",
    "def clean_date_column(value):\n",
    "    try:\n",
    "        # Verificar se é uma string que representa uma lista\n",
    "        if isinstance(value, str) and value.startswith('[\"'):\n",
    "            value = ast.literal_eval(value)  # Converte a string para lista\n",
    "            value = value[0]  # Pega apenas o primeiro valor, assumindo que seja o mais relevante\n",
    "\n",
    "        # Converter para datetime\n",
    "        return pd.to_datetime(value, errors='coerce')\n",
    "    except:\n",
    "        return pd.NaT  # Retorna um valor nulo caso falhe\n",
    "\n",
    "# Aplicar a conversão na coluna\n",
    "df['products.created_on'] = df['products.created_on'].apply(clean_date_column)\n",
    "\n",
    "# Conferir o resultado\n",
    "df[['products.created_on']].head()\n"
   ]
  },
  {
   "cell_type": "code",
   "execution_count": 16,
   "metadata": {
    "colab": {
     "base_uri": "https://localhost:8080/",
     "height": 1000
    },
    "id": "rYgqW0rgm_2H",
    "outputId": "1bff221a-ba0b-459e-a784-c06f38c43d66"
   },
   "outputs": [
    {
     "data": {
      "text/html": [
       "<div>\n",
       "<style scoped>\n",
       "    .dataframe tbody tr th:only-of-type {\n",
       "        vertical-align: middle;\n",
       "    }\n",
       "\n",
       "    .dataframe tbody tr th {\n",
       "        vertical-align: top;\n",
       "    }\n",
       "\n",
       "    .dataframe thead th {\n",
       "        text-align: right;\n",
       "    }\n",
       "</style>\n",
       "<table border=\"1\" class=\"dataframe\">\n",
       "  <thead>\n",
       "    <tr style=\"text-align: right;\">\n",
       "      <th></th>\n",
       "      <th>category</th>\n",
       "      <th>currency</th>\n",
       "      <th>customer_first_name</th>\n",
       "      <th>customer_full_name</th>\n",
       "      <th>customer_gender</th>\n",
       "      <th>customer_id</th>\n",
       "      <th>customer_last_name</th>\n",
       "      <th>day_of_week</th>\n",
       "      <th>day_of_week_i</th>\n",
       "      <th>email</th>\n",
       "      <th>geoip.city_name</th>\n",
       "      <th>geoip.continent_name</th>\n",
       "      <th>geoip.country_iso_code</th>\n",
       "      <th>geoip.location</th>\n",
       "      <th>geoip.region_name</th>\n",
       "      <th>manufacturer</th>\n",
       "      <th>order_date</th>\n",
       "      <th>order_id</th>\n",
       "      <th>products</th>\n",
       "      <th>products.created_on</th>\n",
       "      <th>sku</th>\n",
       "      <th>taxful_total_price</th>\n",
       "      <th>taxless_total_price</th>\n",
       "      <th>total_quantity</th>\n",
       "      <th>total_unique_products</th>\n",
       "      <th>type</th>\n",
       "      <th>user</th>\n",
       "    </tr>\n",
       "  </thead>\n",
       "  <tbody>\n",
       "    <tr>\n",
       "      <th>0</th>\n",
       "      <td>[\"Women's Clothing\"]</td>\n",
       "      <td>EUR</td>\n",
       "      <td>Wilhemina St.</td>\n",
       "      <td>Wilhemina St. Love</td>\n",
       "      <td>FEMALE</td>\n",
       "      <td>17</td>\n",
       "      <td>Love</td>\n",
       "      <td>Saturday</td>\n",
       "      <td>5</td>\n",
       "      <td>wilhemina st.@love-family.zzz</td>\n",
       "      <td>Monte Carlo</td>\n",
       "      <td>Europe</td>\n",
       "      <td>MC</td>\n",
       "      <td>{\\n  \"lon\": 7.4,\\n  \"lat\": 43.7\\n}</td>\n",
       "      <td>desconhecido</td>\n",
       "      <td>[\"Spherecords\",\"Oceanavigations\"]</td>\n",
       "      <td>2019-03-30 16:12:00</td>\n",
       "      <td>572956</td>\n",
       "      <td>[{\"base_price\":9.99,\"discount_percentage\":0,\"quantity\":1,\"manufacturer\":\"Spherecords\",\"tax_amount\":0,\"product_id\":21108,\"category\":\"Women's Clothing\",\"sku\":\"ZO0635406354\",\"taxless_price\":9.99,\"unit_discount_amount\":0,\"min_price\":5,\"_id\":\"sold_product_572956_21108\",\"discount_amount\":0,\"created_on\":\"2016-12-17T16:12:00+00:00\",\"product_name\":\"Jersey dress - black\",\"price\":9.99,\"taxful_price\":9.99,\"base_unit_price\":9.99},{\"base_price\":49.99,\"discount_percentage\":0,\"quantity\":1,\"manufacturer\":\"Oceanavigations\",\"tax_amount\":0,\"product_id\":17895,\"category\":\"Women's Clothing\",\"sku\":\"ZO0267202672\",\"taxless_price\":49.99,\"unit_discount_amount\":0,\"min_price\":25,\"_id\":\"sold_product_572956_17895\",\"discount_amount\":0,\"created_on\":\"2016-12-17T16:12:00+00:00\",\"product_name\":\"Bomber Jacket - black\",\"price\":49.99,\"taxful_price\":49.99,\"base_unit_price\":49.99}]</td>\n",
       "      <td>2016-12-17 16:12:00</td>\n",
       "      <td>[\"ZO0635406354\",\"ZO0267202672\"]</td>\n",
       "      <td>59.98</td>\n",
       "      <td>59.98</td>\n",
       "      <td>2</td>\n",
       "      <td>2</td>\n",
       "      <td>order</td>\n",
       "      <td>wilhemina</td>\n",
       "    </tr>\n",
       "    <tr>\n",
       "      <th>1</th>\n",
       "      <td>[\"Men's Shoes\",\"Men's Clothing\"]</td>\n",
       "      <td>EUR</td>\n",
       "      <td>Mostafa</td>\n",
       "      <td>Mostafa Watkins</td>\n",
       "      <td>MALE</td>\n",
       "      <td>9</td>\n",
       "      <td>Watkins</td>\n",
       "      <td>Saturday</td>\n",
       "      <td>5</td>\n",
       "      <td>mostafa@watkins-family.zzz</td>\n",
       "      <td>Cairo</td>\n",
       "      <td>Africa</td>\n",
       "      <td>EG</td>\n",
       "      <td>{\\n  \"lon\": 31.3,\\n  \"lat\": 30.1\\n}</td>\n",
       "      <td>Cairo Governorate</td>\n",
       "      <td>[\"Low Tide Media\"]</td>\n",
       "      <td>2019-03-30 16:03:22</td>\n",
       "      <td>572949</td>\n",
       "      <td>[{\"base_price\":49.99,\"discount_percentage\":0,\"quantity\":1,\"manufacturer\":\"Low Tide Media\",\"tax_amount\":0,\"product_id\":21327,\"category\":\"Men's Shoes\",\"sku\":\"ZO0398203982\",\"taxless_price\":49.99,\"unit_discount_amount\":0,\"min_price\":26.49,\"_id\":\"sold_product_572949_21327\",\"discount_amount\":0,\"created_on\":\"2016-12-17T16:03:22+00:00\",\"product_name\":\"Boots - black\",\"price\":49.99,\"taxful_price\":49.99,\"base_unit_price\":49.99},{\"base_price\":10.99,\"discount_percentage\":0,\"quantity\":1,\"manufacturer\":\"Low Tide Media\",\"tax_amount\":0,\"product_id\":21164,\"category\":\"Men's Clothing\",\"sku\":\"ZO0436904369\",\"taxless_price\":10.99,\"unit_discount_amount\":0,\"min_price\":5.93,\"_id\":\"sold_product_572949_21164\",\"discount_amount\":0,\"created_on\":\"2016-12-17T16:03:22+00:00\",\"product_name\":\"Long sleeved top - dark blue\",\"price\":10.99,\"taxful_price\":10.99,\"base_unit_price\":10.99}]</td>\n",
       "      <td>2016-12-17 16:03:22</td>\n",
       "      <td>[\"ZO0398203982\",\"ZO0436904369\"]</td>\n",
       "      <td>60.98</td>\n",
       "      <td>60.98</td>\n",
       "      <td>2</td>\n",
       "      <td>2</td>\n",
       "      <td>order</td>\n",
       "      <td>mostafa</td>\n",
       "    </tr>\n",
       "    <tr>\n",
       "      <th>2</th>\n",
       "      <td>[\"Women's Shoes\",\"Women's Accessories\"]</td>\n",
       "      <td>EUR</td>\n",
       "      <td>Wilhemina St.</td>\n",
       "      <td>Wilhemina St. Dixon</td>\n",
       "      <td>FEMALE</td>\n",
       "      <td>17</td>\n",
       "      <td>Dixon</td>\n",
       "      <td>Saturday</td>\n",
       "      <td>5</td>\n",
       "      <td>wilhemina st.@dixon-family.zzz</td>\n",
       "      <td>Monte Carlo</td>\n",
       "      <td>Europe</td>\n",
       "      <td>MC</td>\n",
       "      <td>{\\n  \"lon\": 7.4,\\n  \"lat\": 43.7\\n}</td>\n",
       "      <td>desconhecido</td>\n",
       "      <td>[\"Primemaster\",\"Angeldale\",\"Low Tide Media\",\"Tigress Enterprises\"]</td>\n",
       "      <td>2019-03-30 16:00:29</td>\n",
       "      <td>729864</td>\n",
       "      <td>[{\"base_price\":64.99,\"discount_percentage\":0,\"quantity\":1,\"manufacturer\":\"Primemaster\",\"tax_amount\":0,\"product_id\":25099,\"category\":\"Women's Shoes\",\"sku\":\"ZO0359603596\",\"taxless_price\":64.99,\"unit_discount_amount\":0,\"min_price\":34.44,\"_id\":\"sold_product_729864_25099\",\"discount_amount\":0,\"created_on\":\"2016-12-17T16:00:29+00:00\",\"product_name\":\"Classic heels - petrol\",\"price\":64.99,\"taxful_price\":64.99,\"base_unit_price\":64.99},{\"base_price\":84.99,\"discount_percentage\":0,\"quantity\":1,\"manufacturer\":\"Angeldale\",\"tax_amount\":0,\"product_id\":17820,\"category\":\"Women's Shoes\",\"sku\":\"ZO0673706737\",\"taxless_price\":84.99,\"unit_discount_amount\":0,\"min_price\":39.95,\"_id\":\"sold_product_729864_17820\",\"discount_amount\":0,\"created_on\":\"2016-12-17T16:00:29+00:00\",\"product_name\":\"Platform boots - black\",\"price\":84.99,\"taxful_price\":84.99,\"base_unit_price\":84.99},{\"base_price\":59.99,\"discount_percentage\":0,\"quantity\":1,\"manufacturer\":\"Low Tide Media\",\"tax_amount\":0,\"product_id\":5468,\"category\":\"Women's Shoes\",\"sku\":\"ZO0378103781\",\"taxless_price\":59.99,\"unit_discount_amount\":0,\"min_price\":28.2,\"_id\":\"sold_product_729864_5468\",\"discount_amount\":0,\"created_on\":\"2016-12-17T16:00:29+00:00\",\"product_name\":\"Ankle boots - cognac\",\"price\":59.99,\"taxful_price\":59.99,\"base_unit_price\":59.99},{\"base_price\":32.99,\"discount_percentage\":0,\"quantity\":1,\"manufacturer\":\"Tigress Enterprises\",\"tax_amount\":0,\"product_id\":14482,\"category\":\"Women's Accessories\",\"sku\":\"ZO0093700937\",\"taxless_price\":32.99,\"unit_discount_amount\":0,\"min_price\":16.5,\"_id\":\"sold_product_729864_14482\",\"discount_amount\":0,\"created_on\":\"2016-12-17T16:00:29+00:00\",\"product_name\":\"Handbag - black\",\"price\":32.99,\"taxful_price\":32.99,\"base_unit_price\":32.99}]</td>\n",
       "      <td>2016-12-17 16:00:29</td>\n",
       "      <td>[\"ZO0359603596\",\"ZO0673706737\",\"ZO0378103781\",\"ZO0093700937\"]</td>\n",
       "      <td>242.96</td>\n",
       "      <td>242.96</td>\n",
       "      <td>4</td>\n",
       "      <td>4</td>\n",
       "      <td>order</td>\n",
       "      <td>wilhemina</td>\n",
       "    </tr>\n",
       "    <tr>\n",
       "      <th>3</th>\n",
       "      <td>[\"Women's Clothing\",\"Women's Shoes\"]</td>\n",
       "      <td>EUR</td>\n",
       "      <td>Stephanie</td>\n",
       "      <td>Stephanie Larson</td>\n",
       "      <td>FEMALE</td>\n",
       "      <td>6</td>\n",
       "      <td>Larson</td>\n",
       "      <td>Saturday</td>\n",
       "      <td>5</td>\n",
       "      <td>stephanie@larson-family.zzz</td>\n",
       "      <td>Cannes</td>\n",
       "      <td>Europe</td>\n",
       "      <td>FR</td>\n",
       "      <td>{\\n  \"lon\": 7,\\n  \"lat\": 43.6\\n}</td>\n",
       "      <td>Alpes-Maritimes</td>\n",
       "      <td>[\"Tigress Enterprises\",\"Pyramidustries\"]</td>\n",
       "      <td>2019-03-30 15:43:12</td>\n",
       "      <td>572928</td>\n",
       "      <td>[{\"base_price\":32.99,\"discount_percentage\":0,\"quantity\":1,\"manufacturer\":\"Tigress Enterprises\",\"tax_amount\":0,\"product_id\":12758,\"category\":\"Women's Clothing\",\"sku\":\"ZO0037800378\",\"taxless_price\":32.99,\"unit_discount_amount\":0,\"min_price\":16.82,\"_id\":\"sold_product_572928_12758\",\"discount_amount\":0,\"created_on\":\"2016-12-17T15:43:12+00:00\",\"product_name\":\"Summer dress - navy/white\",\"price\":32.99,\"taxful_price\":32.99,\"base_unit_price\":32.99},{\"base_price\":32.99,\"discount_percentage\":0,\"quantity\":1,\"manufacturer\":\"Pyramidustries\",\"tax_amount\":0,\"product_id\":14311,\"category\":\"Women's Shoes\",\"sku\":\"ZO0132701327\",\"taxless_price\":32.99,\"unit_discount_amount\":0,\"min_price\":16.82,\"_id\":\"sold_product_572928_14311\",\"discount_amount\":0,\"created_on\":\"2016-12-17T15:43:12+00:00\",\"product_name\":\"Platform heels - white\",\"price\":32.99,\"taxful_price\":32.99,\"base_unit_price\":32.99}]</td>\n",
       "      <td>2016-12-17 15:43:12</td>\n",
       "      <td>[\"ZO0037800378\",\"ZO0132701327\"]</td>\n",
       "      <td>65.98</td>\n",
       "      <td>65.98</td>\n",
       "      <td>2</td>\n",
       "      <td>2</td>\n",
       "      <td>order</td>\n",
       "      <td>stephanie</td>\n",
       "    </tr>\n",
       "    <tr>\n",
       "      <th>4</th>\n",
       "      <td>[\"Men's Clothing\"]</td>\n",
       "      <td>EUR</td>\n",
       "      <td>Mostafa</td>\n",
       "      <td>Mostafa Long</td>\n",
       "      <td>MALE</td>\n",
       "      <td>9</td>\n",
       "      <td>Long</td>\n",
       "      <td>Saturday</td>\n",
       "      <td>5</td>\n",
       "      <td>mostafa@long-family.zzz</td>\n",
       "      <td>Cairo</td>\n",
       "      <td>Africa</td>\n",
       "      <td>EG</td>\n",
       "      <td>{\\n  \"lon\": 31.3,\\n  \"lat\": 30.1\\n}</td>\n",
       "      <td>Cairo Governorate</td>\n",
       "      <td>[\"Elitelligence\"]</td>\n",
       "      <td>2019-03-30 15:41:46</td>\n",
       "      <td>572927</td>\n",
       "      <td>[{\"base_price\":24.99,\"discount_percentage\":0,\"quantity\":1,\"manufacturer\":\"Elitelligence\",\"tax_amount\":0,\"product_id\":15551,\"category\":\"Men's Clothing\",\"sku\":\"ZO0577505775\",\"taxless_price\":24.99,\"unit_discount_amount\":0,\"min_price\":13.24,\"_id\":\"sold_product_572927_15551\",\"discount_amount\":0,\"created_on\":\"2016-12-17T15:41:46+00:00\",\"product_name\":\"Jumper - khaki\",\"price\":24.99,\"taxful_price\":24.99,\"base_unit_price\":24.99},{\"base_price\":12.99,\"discount_percentage\":0,\"quantity\":1,\"manufacturer\":\"Elitelligence\",\"tax_amount\":0,\"product_id\":18321,\"category\":\"Men's Clothing\",\"sku\":\"ZO0557905579\",\"taxless_price\":12.99,\"unit_discount_amount\":0,\"min_price\":7.14,\"_id\":\"sold_product_572927_18321\",\"discount_amount\":0,\"created_on\":\"2016-12-17T15:41:46+00:00\",\"product_name\":\"Vest - white/grey\",\"price\":12.99,\"taxful_price\":12.99,\"base_unit_price\":12.99}]</td>\n",
       "      <td>2016-12-17 15:41:46</td>\n",
       "      <td>[\"ZO0577505775\",\"ZO0557905579\"]</td>\n",
       "      <td>37.98</td>\n",
       "      <td>37.98</td>\n",
       "      <td>2</td>\n",
       "      <td>2</td>\n",
       "      <td>order</td>\n",
       "      <td>mostafa</td>\n",
       "    </tr>\n",
       "    <tr>\n",
       "      <th>5</th>\n",
       "      <td>[\"Women's Shoes\",\"Women's Clothing\"]</td>\n",
       "      <td>EUR</td>\n",
       "      <td>Elyssa</td>\n",
       "      <td>Elyssa Morgan</td>\n",
       "      <td>FEMALE</td>\n",
       "      <td>27</td>\n",
       "      <td>Morgan</td>\n",
       "      <td>Saturday</td>\n",
       "      <td>5</td>\n",
       "      <td>elyssa@morgan-family.zzz</td>\n",
       "      <td>New York</td>\n",
       "      <td>North America</td>\n",
       "      <td>US</td>\n",
       "      <td>{\\n  \"lon\": -74,\\n  \"lat\": 40.8\\n}</td>\n",
       "      <td>New York</td>\n",
       "      <td>[\"Oceanavigations\",\"Gnomehouse\"]</td>\n",
       "      <td>2019-03-30 15:37:26</td>\n",
       "      <td>572922</td>\n",
       "      <td>[{\"base_price\":64.99,\"discount_percentage\":0,\"quantity\":1,\"manufacturer\":\"Oceanavigations\",\"tax_amount\":0,\"product_id\":16683,\"category\":\"Women's Shoes\",\"sku\":\"ZO0237002370\",\"taxless_price\":64.99,\"unit_discount_amount\":0,\"min_price\":34.44,\"_id\":\"sold_product_572922_16683\",\"discount_amount\":0,\"created_on\":\"2016-12-17T15:37:26+00:00\",\"product_name\":\"Classic heels - red\",\"price\":64.99,\"taxful_price\":64.99,\"base_unit_price\":64.99},{\"base_price\":28.99,\"discount_percentage\":0,\"quantity\":1,\"manufacturer\":\"Gnomehouse\",\"tax_amount\":0,\"product_id\":14334,\"category\":\"Women's Clothing\",\"sku\":\"ZO0350703507\",\"taxless_price\":28.99,\"unit_discount_amount\":0,\"min_price\":14.49,\"_id\":\"sold_product_572922_14334\",\"discount_amount\":0,\"created_on\":\"2016-12-17T15:37:26+00:00\",\"product_name\":\"Shirt - navy blazer\",\"price\":28.99,\"taxful_price\":28.99,\"base_unit_price\":28.99}]</td>\n",
       "      <td>2016-12-17 15:37:26</td>\n",
       "      <td>[\"ZO0237002370\",\"ZO0350703507\"]</td>\n",
       "      <td>93.98</td>\n",
       "      <td>93.98</td>\n",
       "      <td>2</td>\n",
       "      <td>2</td>\n",
       "      <td>order</td>\n",
       "      <td>elyssa</td>\n",
       "    </tr>\n",
       "    <tr>\n",
       "      <th>6</th>\n",
       "      <td>[\"Women's Shoes\",\"Women's Accessories\"]</td>\n",
       "      <td>EUR</td>\n",
       "      <td>Elyssa</td>\n",
       "      <td>Elyssa Hayes</td>\n",
       "      <td>FEMALE</td>\n",
       "      <td>27</td>\n",
       "      <td>Hayes</td>\n",
       "      <td>Saturday</td>\n",
       "      <td>5</td>\n",
       "      <td>elyssa@hayes-family.zzz</td>\n",
       "      <td>New York</td>\n",
       "      <td>North America</td>\n",
       "      <td>US</td>\n",
       "      <td>{\\n  \"lon\": -74,\\n  \"lat\": 40.8\\n}</td>\n",
       "      <td>New York</td>\n",
       "      <td>[\"Angeldale\",\"Tigress Enterprises\"]</td>\n",
       "      <td>2019-03-30 15:20:10</td>\n",
       "      <td>572903</td>\n",
       "      <td>[{\"base_price\":64.99,\"discount_percentage\":0,\"quantity\":1,\"manufacturer\":\"Angeldale\",\"tax_amount\":0,\"product_id\":20128,\"category\":\"Women's Shoes\",\"sku\":\"ZO0667806678\",\"taxless_price\":64.99,\"unit_discount_amount\":0,\"min_price\":35.09,\"_id\":\"sold_product_572903_20128\",\"discount_amount\":0,\"created_on\":\"2016-12-17T15:20:10+00:00\",\"product_name\":\"Classic heels - silver\",\"price\":64.99,\"taxful_price\":64.99,\"base_unit_price\":64.99},{\"base_price\":32.99,\"discount_percentage\":0,\"quantity\":1,\"manufacturer\":\"Tigress Enterprises\",\"tax_amount\":0,\"product_id\":14539,\"category\":\"Women's Accessories\",\"sku\":\"ZO0087600876\",\"taxless_price\":32.99,\"unit_discount_amount\":0,\"min_price\":16.5,\"_id\":\"sold_product_572903_14539\",\"discount_amount\":0,\"created_on\":\"2016-12-17T15:20:10+00:00\",\"product_name\":\"Tote bag - brown\",\"price\":32.99,\"taxful_price\":32.99,\"base_unit_price\":32.99}]</td>\n",
       "      <td>2016-12-17 15:20:10</td>\n",
       "      <td>[\"ZO0667806678\",\"ZO0087600876\"]</td>\n",
       "      <td>97.98</td>\n",
       "      <td>97.98</td>\n",
       "      <td>2</td>\n",
       "      <td>2</td>\n",
       "      <td>order</td>\n",
       "      <td>elyssa</td>\n",
       "    </tr>\n",
       "    <tr>\n",
       "      <th>7</th>\n",
       "      <td>[\"Women's Clothing\"]</td>\n",
       "      <td>EUR</td>\n",
       "      <td>Mary</td>\n",
       "      <td>Mary Watkins</td>\n",
       "      <td>FEMALE</td>\n",
       "      <td>20</td>\n",
       "      <td>Watkins</td>\n",
       "      <td>Saturday</td>\n",
       "      <td>5</td>\n",
       "      <td>mary@watkins-family.zzz</td>\n",
       "      <td>Dubai</td>\n",
       "      <td>Asia</td>\n",
       "      <td>AE</td>\n",
       "      <td>{\\n  \"lon\": 55.3,\\n  \"lat\": 25.3\\n}</td>\n",
       "      <td>Dubai</td>\n",
       "      <td>[\"Spherecords\",\"Gnomehouse\"]</td>\n",
       "      <td>2019-03-30 14:57:07</td>\n",
       "      <td>572883</td>\n",
       "      <td>[{\"base_price\":7.99,\"discount_percentage\":0,\"quantity\":1,\"manufacturer\":\"Spherecords\",\"tax_amount\":0,\"product_id\":23989,\"category\":\"Women's Clothing\",\"sku\":\"ZO0648506485\",\"taxless_price\":7.99,\"unit_discount_amount\":0,\"min_price\":3.92,\"_id\":\"sold_product_572883_23989\",\"discount_amount\":0,\"created_on\":\"2016-12-17T14:57:07+00:00\",\"product_name\":\"Basic T-shirt - black\",\"price\":7.99,\"taxful_price\":7.99,\"base_unit_price\":7.99},{\"base_price\":49.99,\"discount_percentage\":0,\"quantity\":1,\"manufacturer\":\"Gnomehouse\",\"tax_amount\":0,\"product_id\":19232,\"category\":\"Women's Clothing\",\"sku\":\"ZO0339203392\",\"taxless_price\":49.99,\"unit_discount_amount\":0,\"min_price\":25.99,\"_id\":\"sold_product_572883_19232\",\"discount_amount\":0,\"created_on\":\"2016-12-17T14:57:07+00:00\",\"product_name\":\"Summer dress - navy blazer\",\"price\":49.99,\"taxful_price\":49.99,\"base_unit_price\":49.99}]</td>\n",
       "      <td>2016-12-17 14:57:07</td>\n",
       "      <td>[\"ZO0648506485\",\"ZO0339203392\"]</td>\n",
       "      <td>57.98</td>\n",
       "      <td>57.98</td>\n",
       "      <td>2</td>\n",
       "      <td>2</td>\n",
       "      <td>order</td>\n",
       "      <td>mary</td>\n",
       "    </tr>\n",
       "    <tr>\n",
       "      <th>8</th>\n",
       "      <td>[\"Women's Clothing\"]</td>\n",
       "      <td>EUR</td>\n",
       "      <td>Stephanie</td>\n",
       "      <td>Stephanie Carr</td>\n",
       "      <td>FEMALE</td>\n",
       "      <td>6</td>\n",
       "      <td>Carr</td>\n",
       "      <td>Saturday</td>\n",
       "      <td>5</td>\n",
       "      <td>stephanie@carr-family.zzz</td>\n",
       "      <td>Cannes</td>\n",
       "      <td>Europe</td>\n",
       "      <td>FR</td>\n",
       "      <td>{\\n  \"lon\": 7,\\n  \"lat\": 43.6\\n}</td>\n",
       "      <td>Alpes-Maritimes</td>\n",
       "      <td>[\"Pyramidustries\",\"Tigress Enterprises\"]</td>\n",
       "      <td>2019-03-30 14:52:48</td>\n",
       "      <td>572877</td>\n",
       "      <td>[{\"base_price\":13.99,\"discount_percentage\":0,\"quantity\":1,\"manufacturer\":\"Pyramidustries\",\"tax_amount\":0,\"product_id\":12488,\"category\":\"Women's Clothing\",\"sku\":\"ZO0169901699\",\"taxless_price\":13.99,\"unit_discount_amount\":0,\"min_price\":7.41,\"_id\":\"sold_product_572877_12488\",\"discount_amount\":0,\"created_on\":\"2016-12-17T14:52:48+00:00\",\"product_name\":\"Vest - black\",\"price\":13.99,\"taxful_price\":13.99,\"base_unit_price\":13.99},{\"base_price\":28.99,\"discount_percentage\":0,\"quantity\":1,\"manufacturer\":\"Tigress Enterprises\",\"tax_amount\":0,\"product_id\":12070,\"category\":\"Women's Clothing\",\"sku\":\"ZO0039600396\",\"taxless_price\":28.99,\"unit_discount_amount\":0,\"min_price\":14.78,\"_id\":\"sold_product_572877_12070\",\"discount_amount\":0,\"created_on\":\"2016-12-17T14:52:48+00:00\",\"product_name\":\"Jersey dress - black\",\"price\":28.99,\"taxful_price\":28.99,\"base_unit_price\":28.99}]</td>\n",
       "      <td>2016-12-17 14:52:48</td>\n",
       "      <td>[\"ZO0169901699\",\"ZO0039600396\"]</td>\n",
       "      <td>42.98</td>\n",
       "      <td>42.98</td>\n",
       "      <td>2</td>\n",
       "      <td>2</td>\n",
       "      <td>order</td>\n",
       "      <td>stephanie</td>\n",
       "    </tr>\n",
       "    <tr>\n",
       "      <th>9</th>\n",
       "      <td>[\"Men's Clothing\"]</td>\n",
       "      <td>EUR</td>\n",
       "      <td>Recip</td>\n",
       "      <td>Recip Sherman</td>\n",
       "      <td>MALE</td>\n",
       "      <td>10</td>\n",
       "      <td>Sherman</td>\n",
       "      <td>Saturday</td>\n",
       "      <td>5</td>\n",
       "      <td>recip@sherman-family.zzz</td>\n",
       "      <td>Istanbul</td>\n",
       "      <td>Asia</td>\n",
       "      <td>TR</td>\n",
       "      <td>{\\n  \"lon\": 29,\\n  \"lat\": 41\\n}</td>\n",
       "      <td>Istanbul</td>\n",
       "      <td>[\"Elitelligence\"]</td>\n",
       "      <td>2019-03-30 14:51:22</td>\n",
       "      <td>572876</td>\n",
       "      <td>[{\"base_price\":28.99,\"discount_percentage\":0,\"quantity\":1,\"manufacturer\":\"Elitelligence\",\"tax_amount\":0,\"product_id\":6509,\"category\":\"Men's Clothing\",\"sku\":\"ZO0579205792\",\"taxless_price\":28.99,\"unit_discount_amount\":0,\"min_price\":14.21,\"_id\":\"sold_product_572876_6509\",\"discount_amount\":0,\"created_on\":\"2016-12-17T14:51:22+00:00\",\"product_name\":\"Jumper - black\",\"price\":28.99,\"taxful_price\":28.99,\"base_unit_price\":28.99},{\"base_price\":24.99,\"discount_percentage\":0,\"quantity\":1,\"manufacturer\":\"Elitelligence\",\"tax_amount\":0,\"product_id\":20950,\"category\":\"Men's Clothing\",\"sku\":\"ZO0529705297\",\"taxless_price\":24.99,\"unit_discount_amount\":0,\"min_price\":13.24,\"_id\":\"sold_product_572876_20950\",\"discount_amount\":0,\"created_on\":\"2016-12-17T14:51:22+00:00\",\"product_name\":\"Tracksuit bottoms - khaki\",\"price\":24.99,\"taxful_price\":24.99,\"base_unit_price\":24.99}]</td>\n",
       "      <td>2016-12-17 14:51:22</td>\n",
       "      <td>[\"ZO0579205792\",\"ZO0529705297\"]</td>\n",
       "      <td>53.98</td>\n",
       "      <td>53.98</td>\n",
       "      <td>2</td>\n",
       "      <td>2</td>\n",
       "      <td>order</td>\n",
       "      <td>recip</td>\n",
       "    </tr>\n",
       "  </tbody>\n",
       "</table>\n",
       "</div>"
      ],
      "text/plain": [
       "                                  category currency customer_first_name  \\\n",
       "0                     [\"Women's Clothing\"]      EUR       Wilhemina St.   \n",
       "1         [\"Men's Shoes\",\"Men's Clothing\"]      EUR             Mostafa   \n",
       "2  [\"Women's Shoes\",\"Women's Accessories\"]      EUR       Wilhemina St.   \n",
       "3     [\"Women's Clothing\",\"Women's Shoes\"]      EUR           Stephanie   \n",
       "4                       [\"Men's Clothing\"]      EUR             Mostafa   \n",
       "5     [\"Women's Shoes\",\"Women's Clothing\"]      EUR              Elyssa   \n",
       "6  [\"Women's Shoes\",\"Women's Accessories\"]      EUR              Elyssa   \n",
       "7                     [\"Women's Clothing\"]      EUR                Mary   \n",
       "8                     [\"Women's Clothing\"]      EUR           Stephanie   \n",
       "9                       [\"Men's Clothing\"]      EUR               Recip   \n",
       "\n",
       "    customer_full_name customer_gender  customer_id customer_last_name  \\\n",
       "0   Wilhemina St. Love          FEMALE           17               Love   \n",
       "1      Mostafa Watkins            MALE            9            Watkins   \n",
       "2  Wilhemina St. Dixon          FEMALE           17              Dixon   \n",
       "3     Stephanie Larson          FEMALE            6             Larson   \n",
       "4         Mostafa Long            MALE            9               Long   \n",
       "5        Elyssa Morgan          FEMALE           27             Morgan   \n",
       "6         Elyssa Hayes          FEMALE           27              Hayes   \n",
       "7         Mary Watkins          FEMALE           20            Watkins   \n",
       "8       Stephanie Carr          FEMALE            6               Carr   \n",
       "9        Recip Sherman            MALE           10            Sherman   \n",
       "\n",
       "  day_of_week  day_of_week_i                           email geoip.city_name  \\\n",
       "0    Saturday              5   wilhemina st.@love-family.zzz     Monte Carlo   \n",
       "1    Saturday              5      mostafa@watkins-family.zzz           Cairo   \n",
       "2    Saturday              5  wilhemina st.@dixon-family.zzz     Monte Carlo   \n",
       "3    Saturday              5     stephanie@larson-family.zzz          Cannes   \n",
       "4    Saturday              5         mostafa@long-family.zzz           Cairo   \n",
       "5    Saturday              5        elyssa@morgan-family.zzz        New York   \n",
       "6    Saturday              5         elyssa@hayes-family.zzz        New York   \n",
       "7    Saturday              5         mary@watkins-family.zzz           Dubai   \n",
       "8    Saturday              5       stephanie@carr-family.zzz          Cannes   \n",
       "9    Saturday              5        recip@sherman-family.zzz        Istanbul   \n",
       "\n",
       "  geoip.continent_name geoip.country_iso_code  \\\n",
       "0               Europe                     MC   \n",
       "1               Africa                     EG   \n",
       "2               Europe                     MC   \n",
       "3               Europe                     FR   \n",
       "4               Africa                     EG   \n",
       "5        North America                     US   \n",
       "6        North America                     US   \n",
       "7                 Asia                     AE   \n",
       "8               Europe                     FR   \n",
       "9                 Asia                     TR   \n",
       "\n",
       "                        geoip.location  geoip.region_name  \\\n",
       "0   {\\n  \"lon\": 7.4,\\n  \"lat\": 43.7\\n}       desconhecido   \n",
       "1  {\\n  \"lon\": 31.3,\\n  \"lat\": 30.1\\n}  Cairo Governorate   \n",
       "2   {\\n  \"lon\": 7.4,\\n  \"lat\": 43.7\\n}       desconhecido   \n",
       "3     {\\n  \"lon\": 7,\\n  \"lat\": 43.6\\n}    Alpes-Maritimes   \n",
       "4  {\\n  \"lon\": 31.3,\\n  \"lat\": 30.1\\n}  Cairo Governorate   \n",
       "5   {\\n  \"lon\": -74,\\n  \"lat\": 40.8\\n}           New York   \n",
       "6   {\\n  \"lon\": -74,\\n  \"lat\": 40.8\\n}           New York   \n",
       "7  {\\n  \"lon\": 55.3,\\n  \"lat\": 25.3\\n}              Dubai   \n",
       "8     {\\n  \"lon\": 7,\\n  \"lat\": 43.6\\n}    Alpes-Maritimes   \n",
       "9      {\\n  \"lon\": 29,\\n  \"lat\": 41\\n}           Istanbul   \n",
       "\n",
       "                                                         manufacturer  \\\n",
       "0                                   [\"Spherecords\",\"Oceanavigations\"]   \n",
       "1                                                  [\"Low Tide Media\"]   \n",
       "2  [\"Primemaster\",\"Angeldale\",\"Low Tide Media\",\"Tigress Enterprises\"]   \n",
       "3                            [\"Tigress Enterprises\",\"Pyramidustries\"]   \n",
       "4                                                   [\"Elitelligence\"]   \n",
       "5                                    [\"Oceanavigations\",\"Gnomehouse\"]   \n",
       "6                                 [\"Angeldale\",\"Tigress Enterprises\"]   \n",
       "7                                        [\"Spherecords\",\"Gnomehouse\"]   \n",
       "8                            [\"Pyramidustries\",\"Tigress Enterprises\"]   \n",
       "9                                                   [\"Elitelligence\"]   \n",
       "\n",
       "           order_date  order_id  \\\n",
       "0 2019-03-30 16:12:00    572956   \n",
       "1 2019-03-30 16:03:22    572949   \n",
       "2 2019-03-30 16:00:29    729864   \n",
       "3 2019-03-30 15:43:12    572928   \n",
       "4 2019-03-30 15:41:46    572927   \n",
       "5 2019-03-30 15:37:26    572922   \n",
       "6 2019-03-30 15:20:10    572903   \n",
       "7 2019-03-30 14:57:07    572883   \n",
       "8 2019-03-30 14:52:48    572877   \n",
       "9 2019-03-30 14:51:22    572876   \n",
       "\n",
       "                                                                                                                                                                                                                                                                                                                                                                                                                                                                                                                                                                                                                                                                                                                                                                                                                                                                                                                                                                                                                                                                                                                                                                                                                                                                                                                                                                                                                                                                                                                                                                                                                                                                                                                                                                              products  \\\n",
       "0                                                                                                                                                                                                                                                                                                                                                                                                                                                                                                                                                                                                                                                                                                                                                                                                                                                                                                 [{\"base_price\":9.99,\"discount_percentage\":0,\"quantity\":1,\"manufacturer\":\"Spherecords\",\"tax_amount\":0,\"product_id\":21108,\"category\":\"Women's Clothing\",\"sku\":\"ZO0635406354\",\"taxless_price\":9.99,\"unit_discount_amount\":0,\"min_price\":5,\"_id\":\"sold_product_572956_21108\",\"discount_amount\":0,\"created_on\":\"2016-12-17T16:12:00+00:00\",\"product_name\":\"Jersey dress - black\",\"price\":9.99,\"taxful_price\":9.99,\"base_unit_price\":9.99},{\"base_price\":49.99,\"discount_percentage\":0,\"quantity\":1,\"manufacturer\":\"Oceanavigations\",\"tax_amount\":0,\"product_id\":17895,\"category\":\"Women's Clothing\",\"sku\":\"ZO0267202672\",\"taxless_price\":49.99,\"unit_discount_amount\":0,\"min_price\":25,\"_id\":\"sold_product_572956_17895\",\"discount_amount\":0,\"created_on\":\"2016-12-17T16:12:00+00:00\",\"product_name\":\"Bomber Jacket - black\",\"price\":49.99,\"taxful_price\":49.99,\"base_unit_price\":49.99}]   \n",
       "1                                                                                                                                                                                                                                                                                                                                                                                                                                                                                                                                                                                                                                                                                                                                                                                                                                                                                           [{\"base_price\":49.99,\"discount_percentage\":0,\"quantity\":1,\"manufacturer\":\"Low Tide Media\",\"tax_amount\":0,\"product_id\":21327,\"category\":\"Men's Shoes\",\"sku\":\"ZO0398203982\",\"taxless_price\":49.99,\"unit_discount_amount\":0,\"min_price\":26.49,\"_id\":\"sold_product_572949_21327\",\"discount_amount\":0,\"created_on\":\"2016-12-17T16:03:22+00:00\",\"product_name\":\"Boots - black\",\"price\":49.99,\"taxful_price\":49.99,\"base_unit_price\":49.99},{\"base_price\":10.99,\"discount_percentage\":0,\"quantity\":1,\"manufacturer\":\"Low Tide Media\",\"tax_amount\":0,\"product_id\":21164,\"category\":\"Men's Clothing\",\"sku\":\"ZO0436904369\",\"taxless_price\":10.99,\"unit_discount_amount\":0,\"min_price\":5.93,\"_id\":\"sold_product_572949_21164\",\"discount_amount\":0,\"created_on\":\"2016-12-17T16:03:22+00:00\",\"product_name\":\"Long sleeved top - dark blue\",\"price\":10.99,\"taxful_price\":10.99,\"base_unit_price\":10.99}]   \n",
       "2  [{\"base_price\":64.99,\"discount_percentage\":0,\"quantity\":1,\"manufacturer\":\"Primemaster\",\"tax_amount\":0,\"product_id\":25099,\"category\":\"Women's Shoes\",\"sku\":\"ZO0359603596\",\"taxless_price\":64.99,\"unit_discount_amount\":0,\"min_price\":34.44,\"_id\":\"sold_product_729864_25099\",\"discount_amount\":0,\"created_on\":\"2016-12-17T16:00:29+00:00\",\"product_name\":\"Classic heels - petrol\",\"price\":64.99,\"taxful_price\":64.99,\"base_unit_price\":64.99},{\"base_price\":84.99,\"discount_percentage\":0,\"quantity\":1,\"manufacturer\":\"Angeldale\",\"tax_amount\":0,\"product_id\":17820,\"category\":\"Women's Shoes\",\"sku\":\"ZO0673706737\",\"taxless_price\":84.99,\"unit_discount_amount\":0,\"min_price\":39.95,\"_id\":\"sold_product_729864_17820\",\"discount_amount\":0,\"created_on\":\"2016-12-17T16:00:29+00:00\",\"product_name\":\"Platform boots - black\",\"price\":84.99,\"taxful_price\":84.99,\"base_unit_price\":84.99},{\"base_price\":59.99,\"discount_percentage\":0,\"quantity\":1,\"manufacturer\":\"Low Tide Media\",\"tax_amount\":0,\"product_id\":5468,\"category\":\"Women's Shoes\",\"sku\":\"ZO0378103781\",\"taxless_price\":59.99,\"unit_discount_amount\":0,\"min_price\":28.2,\"_id\":\"sold_product_729864_5468\",\"discount_amount\":0,\"created_on\":\"2016-12-17T16:00:29+00:00\",\"product_name\":\"Ankle boots - cognac\",\"price\":59.99,\"taxful_price\":59.99,\"base_unit_price\":59.99},{\"base_price\":32.99,\"discount_percentage\":0,\"quantity\":1,\"manufacturer\":\"Tigress Enterprises\",\"tax_amount\":0,\"product_id\":14482,\"category\":\"Women's Accessories\",\"sku\":\"ZO0093700937\",\"taxless_price\":32.99,\"unit_discount_amount\":0,\"min_price\":16.5,\"_id\":\"sold_product_729864_14482\",\"discount_amount\":0,\"created_on\":\"2016-12-17T16:00:29+00:00\",\"product_name\":\"Handbag - black\",\"price\":32.99,\"taxful_price\":32.99,\"base_unit_price\":32.99}]   \n",
       "3                                                                                                                                                                                                                                                                                                                                                                                                                                                                                                                                                                                                                                                                                                                                                                                                                                                                           [{\"base_price\":32.99,\"discount_percentage\":0,\"quantity\":1,\"manufacturer\":\"Tigress Enterprises\",\"tax_amount\":0,\"product_id\":12758,\"category\":\"Women's Clothing\",\"sku\":\"ZO0037800378\",\"taxless_price\":32.99,\"unit_discount_amount\":0,\"min_price\":16.82,\"_id\":\"sold_product_572928_12758\",\"discount_amount\":0,\"created_on\":\"2016-12-17T15:43:12+00:00\",\"product_name\":\"Summer dress - navy/white\",\"price\":32.99,\"taxful_price\":32.99,\"base_unit_price\":32.99},{\"base_price\":32.99,\"discount_percentage\":0,\"quantity\":1,\"manufacturer\":\"Pyramidustries\",\"tax_amount\":0,\"product_id\":14311,\"category\":\"Women's Shoes\",\"sku\":\"ZO0132701327\",\"taxless_price\":32.99,\"unit_discount_amount\":0,\"min_price\":16.82,\"_id\":\"sold_product_572928_14311\",\"discount_amount\":0,\"created_on\":\"2016-12-17T15:43:12+00:00\",\"product_name\":\"Platform heels - white\",\"price\":32.99,\"taxful_price\":32.99,\"base_unit_price\":32.99}]   \n",
       "4                                                                                                                                                                                                                                                                                                                                                                                                                                                                                                                                                                                                                                                                                                                                                                                                                                                                                                    [{\"base_price\":24.99,\"discount_percentage\":0,\"quantity\":1,\"manufacturer\":\"Elitelligence\",\"tax_amount\":0,\"product_id\":15551,\"category\":\"Men's Clothing\",\"sku\":\"ZO0577505775\",\"taxless_price\":24.99,\"unit_discount_amount\":0,\"min_price\":13.24,\"_id\":\"sold_product_572927_15551\",\"discount_amount\":0,\"created_on\":\"2016-12-17T15:41:46+00:00\",\"product_name\":\"Jumper - khaki\",\"price\":24.99,\"taxful_price\":24.99,\"base_unit_price\":24.99},{\"base_price\":12.99,\"discount_percentage\":0,\"quantity\":1,\"manufacturer\":\"Elitelligence\",\"tax_amount\":0,\"product_id\":18321,\"category\":\"Men's Clothing\",\"sku\":\"ZO0557905579\",\"taxless_price\":12.99,\"unit_discount_amount\":0,\"min_price\":7.14,\"_id\":\"sold_product_572927_18321\",\"discount_amount\":0,\"created_on\":\"2016-12-17T15:41:46+00:00\",\"product_name\":\"Vest - white/grey\",\"price\":12.99,\"taxful_price\":12.99,\"base_unit_price\":12.99}]   \n",
       "5                                                                                                                                                                                                                                                                                                                                                                                                                                                                                                                                                                                                                                                                                                                                                                                                                                                                                            [{\"base_price\":64.99,\"discount_percentage\":0,\"quantity\":1,\"manufacturer\":\"Oceanavigations\",\"tax_amount\":0,\"product_id\":16683,\"category\":\"Women's Shoes\",\"sku\":\"ZO0237002370\",\"taxless_price\":64.99,\"unit_discount_amount\":0,\"min_price\":34.44,\"_id\":\"sold_product_572922_16683\",\"discount_amount\":0,\"created_on\":\"2016-12-17T15:37:26+00:00\",\"product_name\":\"Classic heels - red\",\"price\":64.99,\"taxful_price\":64.99,\"base_unit_price\":64.99},{\"base_price\":28.99,\"discount_percentage\":0,\"quantity\":1,\"manufacturer\":\"Gnomehouse\",\"tax_amount\":0,\"product_id\":14334,\"category\":\"Women's Clothing\",\"sku\":\"ZO0350703507\",\"taxless_price\":28.99,\"unit_discount_amount\":0,\"min_price\":14.49,\"_id\":\"sold_product_572922_14334\",\"discount_amount\":0,\"created_on\":\"2016-12-17T15:37:26+00:00\",\"product_name\":\"Shirt - navy blazer\",\"price\":28.99,\"taxful_price\":28.99,\"base_unit_price\":28.99}]   \n",
       "6                                                                                                                                                                                                                                                                                                                                                                                                                                                                                                                                                                                                                                                                                                                                                                                                                                                                                       [{\"base_price\":64.99,\"discount_percentage\":0,\"quantity\":1,\"manufacturer\":\"Angeldale\",\"tax_amount\":0,\"product_id\":20128,\"category\":\"Women's Shoes\",\"sku\":\"ZO0667806678\",\"taxless_price\":64.99,\"unit_discount_amount\":0,\"min_price\":35.09,\"_id\":\"sold_product_572903_20128\",\"discount_amount\":0,\"created_on\":\"2016-12-17T15:20:10+00:00\",\"product_name\":\"Classic heels - silver\",\"price\":64.99,\"taxful_price\":64.99,\"base_unit_price\":64.99},{\"base_price\":32.99,\"discount_percentage\":0,\"quantity\":1,\"manufacturer\":\"Tigress Enterprises\",\"tax_amount\":0,\"product_id\":14539,\"category\":\"Women's Accessories\",\"sku\":\"ZO0087600876\",\"taxless_price\":32.99,\"unit_discount_amount\":0,\"min_price\":16.5,\"_id\":\"sold_product_572903_14539\",\"discount_amount\":0,\"created_on\":\"2016-12-17T15:20:10+00:00\",\"product_name\":\"Tote bag - brown\",\"price\":32.99,\"taxful_price\":32.99,\"base_unit_price\":32.99}]   \n",
       "7                                                                                                                                                                                                                                                                                                                                                                                                                                                                                                                                                                                                                                                                                                                                                                                                                                                                                          [{\"base_price\":7.99,\"discount_percentage\":0,\"quantity\":1,\"manufacturer\":\"Spherecords\",\"tax_amount\":0,\"product_id\":23989,\"category\":\"Women's Clothing\",\"sku\":\"ZO0648506485\",\"taxless_price\":7.99,\"unit_discount_amount\":0,\"min_price\":3.92,\"_id\":\"sold_product_572883_23989\",\"discount_amount\":0,\"created_on\":\"2016-12-17T14:57:07+00:00\",\"product_name\":\"Basic T-shirt - black\",\"price\":7.99,\"taxful_price\":7.99,\"base_unit_price\":7.99},{\"base_price\":49.99,\"discount_percentage\":0,\"quantity\":1,\"manufacturer\":\"Gnomehouse\",\"tax_amount\":0,\"product_id\":19232,\"category\":\"Women's Clothing\",\"sku\":\"ZO0339203392\",\"taxless_price\":49.99,\"unit_discount_amount\":0,\"min_price\":25.99,\"_id\":\"sold_product_572883_19232\",\"discount_amount\":0,\"created_on\":\"2016-12-17T14:57:07+00:00\",\"product_name\":\"Summer dress - navy blazer\",\"price\":49.99,\"taxful_price\":49.99,\"base_unit_price\":49.99}]   \n",
       "8                                                                                                                                                                                                                                                                                                                                                                                                                                                                                                                                                                                                                                                                                                                                                                                                                                                                                        [{\"base_price\":13.99,\"discount_percentage\":0,\"quantity\":1,\"manufacturer\":\"Pyramidustries\",\"tax_amount\":0,\"product_id\":12488,\"category\":\"Women's Clothing\",\"sku\":\"ZO0169901699\",\"taxless_price\":13.99,\"unit_discount_amount\":0,\"min_price\":7.41,\"_id\":\"sold_product_572877_12488\",\"discount_amount\":0,\"created_on\":\"2016-12-17T14:52:48+00:00\",\"product_name\":\"Vest - black\",\"price\":13.99,\"taxful_price\":13.99,\"base_unit_price\":13.99},{\"base_price\":28.99,\"discount_percentage\":0,\"quantity\":1,\"manufacturer\":\"Tigress Enterprises\",\"tax_amount\":0,\"product_id\":12070,\"category\":\"Women's Clothing\",\"sku\":\"ZO0039600396\",\"taxless_price\":28.99,\"unit_discount_amount\":0,\"min_price\":14.78,\"_id\":\"sold_product_572877_12070\",\"discount_amount\":0,\"created_on\":\"2016-12-17T14:52:48+00:00\",\"product_name\":\"Jersey dress - black\",\"price\":28.99,\"taxful_price\":28.99,\"base_unit_price\":28.99}]   \n",
       "9                                                                                                                                                                                                                                                                                                                                                                                                                                                                                                                                                                                                                                                                                                                                                                                                                                                                                             [{\"base_price\":28.99,\"discount_percentage\":0,\"quantity\":1,\"manufacturer\":\"Elitelligence\",\"tax_amount\":0,\"product_id\":6509,\"category\":\"Men's Clothing\",\"sku\":\"ZO0579205792\",\"taxless_price\":28.99,\"unit_discount_amount\":0,\"min_price\":14.21,\"_id\":\"sold_product_572876_6509\",\"discount_amount\":0,\"created_on\":\"2016-12-17T14:51:22+00:00\",\"product_name\":\"Jumper - black\",\"price\":28.99,\"taxful_price\":28.99,\"base_unit_price\":28.99},{\"base_price\":24.99,\"discount_percentage\":0,\"quantity\":1,\"manufacturer\":\"Elitelligence\",\"tax_amount\":0,\"product_id\":20950,\"category\":\"Men's Clothing\",\"sku\":\"ZO0529705297\",\"taxless_price\":24.99,\"unit_discount_amount\":0,\"min_price\":13.24,\"_id\":\"sold_product_572876_20950\",\"discount_amount\":0,\"created_on\":\"2016-12-17T14:51:22+00:00\",\"product_name\":\"Tracksuit bottoms - khaki\",\"price\":24.99,\"taxful_price\":24.99,\"base_unit_price\":24.99}]   \n",
       "\n",
       "  products.created_on  \\\n",
       "0 2016-12-17 16:12:00   \n",
       "1 2016-12-17 16:03:22   \n",
       "2 2016-12-17 16:00:29   \n",
       "3 2016-12-17 15:43:12   \n",
       "4 2016-12-17 15:41:46   \n",
       "5 2016-12-17 15:37:26   \n",
       "6 2016-12-17 15:20:10   \n",
       "7 2016-12-17 14:57:07   \n",
       "8 2016-12-17 14:52:48   \n",
       "9 2016-12-17 14:51:22   \n",
       "\n",
       "                                                             sku  \\\n",
       "0                                [\"ZO0635406354\",\"ZO0267202672\"]   \n",
       "1                                [\"ZO0398203982\",\"ZO0436904369\"]   \n",
       "2  [\"ZO0359603596\",\"ZO0673706737\",\"ZO0378103781\",\"ZO0093700937\"]   \n",
       "3                                [\"ZO0037800378\",\"ZO0132701327\"]   \n",
       "4                                [\"ZO0577505775\",\"ZO0557905579\"]   \n",
       "5                                [\"ZO0237002370\",\"ZO0350703507\"]   \n",
       "6                                [\"ZO0667806678\",\"ZO0087600876\"]   \n",
       "7                                [\"ZO0648506485\",\"ZO0339203392\"]   \n",
       "8                                [\"ZO0169901699\",\"ZO0039600396\"]   \n",
       "9                                [\"ZO0579205792\",\"ZO0529705297\"]   \n",
       "\n",
       "   taxful_total_price  taxless_total_price  total_quantity  \\\n",
       "0               59.98                59.98               2   \n",
       "1               60.98                60.98               2   \n",
       "2              242.96               242.96               4   \n",
       "3               65.98                65.98               2   \n",
       "4               37.98                37.98               2   \n",
       "5               93.98                93.98               2   \n",
       "6               97.98                97.98               2   \n",
       "7               57.98                57.98               2   \n",
       "8               42.98                42.98               2   \n",
       "9               53.98                53.98               2   \n",
       "\n",
       "   total_unique_products   type       user  \n",
       "0                      2  order  wilhemina  \n",
       "1                      2  order    mostafa  \n",
       "2                      4  order  wilhemina  \n",
       "3                      2  order  stephanie  \n",
       "4                      2  order    mostafa  \n",
       "5                      2  order     elyssa  \n",
       "6                      2  order     elyssa  \n",
       "7                      2  order       mary  \n",
       "8                      2  order  stephanie  \n",
       "9                      2  order      recip  "
      ]
     },
     "execution_count": 16,
     "metadata": {},
     "output_type": "execute_result"
    }
   ],
   "source": [
    "pd.set_option('display.max_columns', None)\n",
    "df.head(10)"
   ]
  },
  {
   "cell_type": "markdown",
   "metadata": {
    "id": "H-1chydTul7C"
   },
   "source": [
    "## **Ajuste da coluna product**"
   ]
  },
  {
   "cell_type": "code",
   "execution_count": 17,
   "metadata": {
    "colab": {
     "base_uri": "https://localhost:8080/",
     "height": 779
    },
    "id": "a1KuLTtYuphI",
    "outputId": "03485812-633c-441d-98df-9f033149b9e4"
   },
   "outputs": [
    {
     "data": {
      "text/plain": [
       "0                                                                                                                                                                                                                                                                                                                                                                                                                                                                                                                                                                                                                                                                                                                                                                                                                                                                                                   [{\"base_price\":9.99,\"discount_percentage\":0,\"quantity\":1,\"manufacturer\":\"Spherecords\",\"tax_amount\":0,\"product_id\":21108,\"category\":\"Women's Clothing\",\"sku\":\"ZO0635406354\",\"taxless_price\":9.99,\"unit_discount_amount\":0,\"min_price\":5,\"_id\":\"sold_product_572956_21108\",\"discount_amount\":0,\"created_on\":\"2016-12-17T16:12:00+00:00\",\"product_name\":\"Jersey dress - black\",\"price\":9.99,\"taxful_price\":9.99,\"base_unit_price\":9.99},{\"base_price\":49.99,\"discount_percentage\":0,\"quantity\":1,\"manufacturer\":\"Oceanavigations\",\"tax_amount\":0,\"product_id\":17895,\"category\":\"Women's Clothing\",\"sku\":\"ZO0267202672\",\"taxless_price\":49.99,\"unit_discount_amount\":0,\"min_price\":25,\"_id\":\"sold_product_572956_17895\",\"discount_amount\":0,\"created_on\":\"2016-12-17T16:12:00+00:00\",\"product_name\":\"Bomber Jacket - black\",\"price\":49.99,\"taxful_price\":49.99,\"base_unit_price\":49.99}]\n",
       "1                                                                                                                                                                                                                                                                                                                                                                                                                                                                                                                                                                                                                                                                                                                                                                                                                                                                                             [{\"base_price\":49.99,\"discount_percentage\":0,\"quantity\":1,\"manufacturer\":\"Low Tide Media\",\"tax_amount\":0,\"product_id\":21327,\"category\":\"Men's Shoes\",\"sku\":\"ZO0398203982\",\"taxless_price\":49.99,\"unit_discount_amount\":0,\"min_price\":26.49,\"_id\":\"sold_product_572949_21327\",\"discount_amount\":0,\"created_on\":\"2016-12-17T16:03:22+00:00\",\"product_name\":\"Boots - black\",\"price\":49.99,\"taxful_price\":49.99,\"base_unit_price\":49.99},{\"base_price\":10.99,\"discount_percentage\":0,\"quantity\":1,\"manufacturer\":\"Low Tide Media\",\"tax_amount\":0,\"product_id\":21164,\"category\":\"Men's Clothing\",\"sku\":\"ZO0436904369\",\"taxless_price\":10.99,\"unit_discount_amount\":0,\"min_price\":5.93,\"_id\":\"sold_product_572949_21164\",\"discount_amount\":0,\"created_on\":\"2016-12-17T16:03:22+00:00\",\"product_name\":\"Long sleeved top - dark blue\",\"price\":10.99,\"taxful_price\":10.99,\"base_unit_price\":10.99}]\n",
       "2    [{\"base_price\":64.99,\"discount_percentage\":0,\"quantity\":1,\"manufacturer\":\"Primemaster\",\"tax_amount\":0,\"product_id\":25099,\"category\":\"Women's Shoes\",\"sku\":\"ZO0359603596\",\"taxless_price\":64.99,\"unit_discount_amount\":0,\"min_price\":34.44,\"_id\":\"sold_product_729864_25099\",\"discount_amount\":0,\"created_on\":\"2016-12-17T16:00:29+00:00\",\"product_name\":\"Classic heels - petrol\",\"price\":64.99,\"taxful_price\":64.99,\"base_unit_price\":64.99},{\"base_price\":84.99,\"discount_percentage\":0,\"quantity\":1,\"manufacturer\":\"Angeldale\",\"tax_amount\":0,\"product_id\":17820,\"category\":\"Women's Shoes\",\"sku\":\"ZO0673706737\",\"taxless_price\":84.99,\"unit_discount_amount\":0,\"min_price\":39.95,\"_id\":\"sold_product_729864_17820\",\"discount_amount\":0,\"created_on\":\"2016-12-17T16:00:29+00:00\",\"product_name\":\"Platform boots - black\",\"price\":84.99,\"taxful_price\":84.99,\"base_unit_price\":84.99},{\"base_price\":59.99,\"discount_percentage\":0,\"quantity\":1,\"manufacturer\":\"Low Tide Media\",\"tax_amount\":0,\"product_id\":5468,\"category\":\"Women's Shoes\",\"sku\":\"ZO0378103781\",\"taxless_price\":59.99,\"unit_discount_amount\":0,\"min_price\":28.2,\"_id\":\"sold_product_729864_5468\",\"discount_amount\":0,\"created_on\":\"2016-12-17T16:00:29+00:00\",\"product_name\":\"Ankle boots - cognac\",\"price\":59.99,\"taxful_price\":59.99,\"base_unit_price\":59.99},{\"base_price\":32.99,\"discount_percentage\":0,\"quantity\":1,\"manufacturer\":\"Tigress Enterprises\",\"tax_amount\":0,\"product_id\":14482,\"category\":\"Women's Accessories\",\"sku\":\"ZO0093700937\",\"taxless_price\":32.99,\"unit_discount_amount\":0,\"min_price\":16.5,\"_id\":\"sold_product_729864_14482\",\"discount_amount\":0,\"created_on\":\"2016-12-17T16:00:29+00:00\",\"product_name\":\"Handbag - black\",\"price\":32.99,\"taxful_price\":32.99,\"base_unit_price\":32.99}]\n",
       "3                                                                                                                                                                                                                                                                                                                                                                                                                                                                                                                                                                                                                                                                                                                                                                                                                                                                             [{\"base_price\":32.99,\"discount_percentage\":0,\"quantity\":1,\"manufacturer\":\"Tigress Enterprises\",\"tax_amount\":0,\"product_id\":12758,\"category\":\"Women's Clothing\",\"sku\":\"ZO0037800378\",\"taxless_price\":32.99,\"unit_discount_amount\":0,\"min_price\":16.82,\"_id\":\"sold_product_572928_12758\",\"discount_amount\":0,\"created_on\":\"2016-12-17T15:43:12+00:00\",\"product_name\":\"Summer dress - navy/white\",\"price\":32.99,\"taxful_price\":32.99,\"base_unit_price\":32.99},{\"base_price\":32.99,\"discount_percentage\":0,\"quantity\":1,\"manufacturer\":\"Pyramidustries\",\"tax_amount\":0,\"product_id\":14311,\"category\":\"Women's Shoes\",\"sku\":\"ZO0132701327\",\"taxless_price\":32.99,\"unit_discount_amount\":0,\"min_price\":16.82,\"_id\":\"sold_product_572928_14311\",\"discount_amount\":0,\"created_on\":\"2016-12-17T15:43:12+00:00\",\"product_name\":\"Platform heels - white\",\"price\":32.99,\"taxful_price\":32.99,\"base_unit_price\":32.99}]\n",
       "4                                                                                                                                                                                                                                                                                                                                                                                                                                                                                                                                                                                                                                                                                                                                                                                                                                                                                                      [{\"base_price\":24.99,\"discount_percentage\":0,\"quantity\":1,\"manufacturer\":\"Elitelligence\",\"tax_amount\":0,\"product_id\":15551,\"category\":\"Men's Clothing\",\"sku\":\"ZO0577505775\",\"taxless_price\":24.99,\"unit_discount_amount\":0,\"min_price\":13.24,\"_id\":\"sold_product_572927_15551\",\"discount_amount\":0,\"created_on\":\"2016-12-17T15:41:46+00:00\",\"product_name\":\"Jumper - khaki\",\"price\":24.99,\"taxful_price\":24.99,\"base_unit_price\":24.99},{\"base_price\":12.99,\"discount_percentage\":0,\"quantity\":1,\"manufacturer\":\"Elitelligence\",\"tax_amount\":0,\"product_id\":18321,\"category\":\"Men's Clothing\",\"sku\":\"ZO0557905579\",\"taxless_price\":12.99,\"unit_discount_amount\":0,\"min_price\":7.14,\"_id\":\"sold_product_572927_18321\",\"discount_amount\":0,\"created_on\":\"2016-12-17T15:41:46+00:00\",\"product_name\":\"Vest - white/grey\",\"price\":12.99,\"taxful_price\":12.99,\"base_unit_price\":12.99}]\n",
       "Name: products, dtype: object"
      ]
     },
     "execution_count": 17,
     "metadata": {},
     "output_type": "execute_result"
    }
   ],
   "source": [
    "df['products'].head()"
   ]
  },
  {
   "cell_type": "code",
   "execution_count": 18,
   "metadata": {
    "colab": {
     "base_uri": "https://localhost:8080/",
     "height": 765
    },
    "id": "DxhaMmAYug28",
    "outputId": "2e6a7816-85e0-40a6-f41e-e4c7e739e801"
   },
   "outputs": [
    {
     "data": {
      "text/html": [
       "<div>\n",
       "<style scoped>\n",
       "    .dataframe tbody tr th:only-of-type {\n",
       "        vertical-align: middle;\n",
       "    }\n",
       "\n",
       "    .dataframe tbody tr th {\n",
       "        vertical-align: top;\n",
       "    }\n",
       "\n",
       "    .dataframe thead th {\n",
       "        text-align: right;\n",
       "    }\n",
       "</style>\n",
       "<table border=\"1\" class=\"dataframe\">\n",
       "  <thead>\n",
       "    <tr style=\"text-align: right;\">\n",
       "      <th></th>\n",
       "      <th>products</th>\n",
       "      <th>product_name</th>\n",
       "    </tr>\n",
       "  </thead>\n",
       "  <tbody>\n",
       "    <tr>\n",
       "      <th>0</th>\n",
       "      <td>[{\"base_price\":9.99,\"discount_percentage\":0,\"quantity\":1,\"manufacturer\":\"Spherecords\",\"tax_amount\":0,\"product_id\":21108,\"category\":\"Women's Clothing\",\"sku\":\"ZO0635406354\",\"taxless_price\":9.99,\"unit_discount_amount\":0,\"min_price\":5,\"_id\":\"sold_product_572956_21108\",\"discount_amount\":0,\"created_on\":\"2016-12-17T16:12:00+00:00\",\"product_name\":\"Jersey dress - black\",\"price\":9.99,\"taxful_price\":9.99,\"base_unit_price\":9.99},{\"base_price\":49.99,\"discount_percentage\":0,\"quantity\":1,\"manufacturer\":\"Oceanavigations\",\"tax_amount\":0,\"product_id\":17895,\"category\":\"Women's Clothing\",\"sku\":\"ZO0267202672\",\"taxless_price\":49.99,\"unit_discount_amount\":0,\"min_price\":25,\"_id\":\"sold_product_572956_17895\",\"discount_amount\":0,\"created_on\":\"2016-12-17T16:12:00+00:00\",\"product_name\":\"Bomber Jacket - black\",\"price\":49.99,\"taxful_price\":49.99,\"base_unit_price\":49.99}]</td>\n",
       "      <td>Jersey dress - black</td>\n",
       "    </tr>\n",
       "    <tr>\n",
       "      <th>1</th>\n",
       "      <td>[{\"base_price\":49.99,\"discount_percentage\":0,\"quantity\":1,\"manufacturer\":\"Low Tide Media\",\"tax_amount\":0,\"product_id\":21327,\"category\":\"Men's Shoes\",\"sku\":\"ZO0398203982\",\"taxless_price\":49.99,\"unit_discount_amount\":0,\"min_price\":26.49,\"_id\":\"sold_product_572949_21327\",\"discount_amount\":0,\"created_on\":\"2016-12-17T16:03:22+00:00\",\"product_name\":\"Boots - black\",\"price\":49.99,\"taxful_price\":49.99,\"base_unit_price\":49.99},{\"base_price\":10.99,\"discount_percentage\":0,\"quantity\":1,\"manufacturer\":\"Low Tide Media\",\"tax_amount\":0,\"product_id\":21164,\"category\":\"Men's Clothing\",\"sku\":\"ZO0436904369\",\"taxless_price\":10.99,\"unit_discount_amount\":0,\"min_price\":5.93,\"_id\":\"sold_product_572949_21164\",\"discount_amount\":0,\"created_on\":\"2016-12-17T16:03:22+00:00\",\"product_name\":\"Long sleeved top - dark blue\",\"price\":10.99,\"taxful_price\":10.99,\"base_unit_price\":10.99}]</td>\n",
       "      <td>Boots - black</td>\n",
       "    </tr>\n",
       "    <tr>\n",
       "      <th>2</th>\n",
       "      <td>[{\"base_price\":64.99,\"discount_percentage\":0,\"quantity\":1,\"manufacturer\":\"Primemaster\",\"tax_amount\":0,\"product_id\":25099,\"category\":\"Women's Shoes\",\"sku\":\"ZO0359603596\",\"taxless_price\":64.99,\"unit_discount_amount\":0,\"min_price\":34.44,\"_id\":\"sold_product_729864_25099\",\"discount_amount\":0,\"created_on\":\"2016-12-17T16:00:29+00:00\",\"product_name\":\"Classic heels - petrol\",\"price\":64.99,\"taxful_price\":64.99,\"base_unit_price\":64.99},{\"base_price\":84.99,\"discount_percentage\":0,\"quantity\":1,\"manufacturer\":\"Angeldale\",\"tax_amount\":0,\"product_id\":17820,\"category\":\"Women's Shoes\",\"sku\":\"ZO0673706737\",\"taxless_price\":84.99,\"unit_discount_amount\":0,\"min_price\":39.95,\"_id\":\"sold_product_729864_17820\",\"discount_amount\":0,\"created_on\":\"2016-12-17T16:00:29+00:00\",\"product_name\":\"Platform boots - black\",\"price\":84.99,\"taxful_price\":84.99,\"base_unit_price\":84.99},{\"base_price\":59.99,\"discount_percentage\":0,\"quantity\":1,\"manufacturer\":\"Low Tide Media\",\"tax_amount\":0,\"product_id\":5468,\"category\":\"Women's Shoes\",\"sku\":\"ZO0378103781\",\"taxless_price\":59.99,\"unit_discount_amount\":0,\"min_price\":28.2,\"_id\":\"sold_product_729864_5468\",\"discount_amount\":0,\"created_on\":\"2016-12-17T16:00:29+00:00\",\"product_name\":\"Ankle boots - cognac\",\"price\":59.99,\"taxful_price\":59.99,\"base_unit_price\":59.99},{\"base_price\":32.99,\"discount_percentage\":0,\"quantity\":1,\"manufacturer\":\"Tigress Enterprises\",\"tax_amount\":0,\"product_id\":14482,\"category\":\"Women's Accessories\",\"sku\":\"ZO0093700937\",\"taxless_price\":32.99,\"unit_discount_amount\":0,\"min_price\":16.5,\"_id\":\"sold_product_729864_14482\",\"discount_amount\":0,\"created_on\":\"2016-12-17T16:00:29+00:00\",\"product_name\":\"Handbag - black\",\"price\":32.99,\"taxful_price\":32.99,\"base_unit_price\":32.99}]</td>\n",
       "      <td>Classic heels - petrol</td>\n",
       "    </tr>\n",
       "    <tr>\n",
       "      <th>3</th>\n",
       "      <td>[{\"base_price\":32.99,\"discount_percentage\":0,\"quantity\":1,\"manufacturer\":\"Tigress Enterprises\",\"tax_amount\":0,\"product_id\":12758,\"category\":\"Women's Clothing\",\"sku\":\"ZO0037800378\",\"taxless_price\":32.99,\"unit_discount_amount\":0,\"min_price\":16.82,\"_id\":\"sold_product_572928_12758\",\"discount_amount\":0,\"created_on\":\"2016-12-17T15:43:12+00:00\",\"product_name\":\"Summer dress - navy/white\",\"price\":32.99,\"taxful_price\":32.99,\"base_unit_price\":32.99},{\"base_price\":32.99,\"discount_percentage\":0,\"quantity\":1,\"manufacturer\":\"Pyramidustries\",\"tax_amount\":0,\"product_id\":14311,\"category\":\"Women's Shoes\",\"sku\":\"ZO0132701327\",\"taxless_price\":32.99,\"unit_discount_amount\":0,\"min_price\":16.82,\"_id\":\"sold_product_572928_14311\",\"discount_amount\":0,\"created_on\":\"2016-12-17T15:43:12+00:00\",\"product_name\":\"Platform heels - white\",\"price\":32.99,\"taxful_price\":32.99,\"base_unit_price\":32.99}]</td>\n",
       "      <td>Summer dress - navy/white</td>\n",
       "    </tr>\n",
       "    <tr>\n",
       "      <th>4</th>\n",
       "      <td>[{\"base_price\":24.99,\"discount_percentage\":0,\"quantity\":1,\"manufacturer\":\"Elitelligence\",\"tax_amount\":0,\"product_id\":15551,\"category\":\"Men's Clothing\",\"sku\":\"ZO0577505775\",\"taxless_price\":24.99,\"unit_discount_amount\":0,\"min_price\":13.24,\"_id\":\"sold_product_572927_15551\",\"discount_amount\":0,\"created_on\":\"2016-12-17T15:41:46+00:00\",\"product_name\":\"Jumper - khaki\",\"price\":24.99,\"taxful_price\":24.99,\"base_unit_price\":24.99},{\"base_price\":12.99,\"discount_percentage\":0,\"quantity\":1,\"manufacturer\":\"Elitelligence\",\"tax_amount\":0,\"product_id\":18321,\"category\":\"Men's Clothing\",\"sku\":\"ZO0557905579\",\"taxless_price\":12.99,\"unit_discount_amount\":0,\"min_price\":7.14,\"_id\":\"sold_product_572927_18321\",\"discount_amount\":0,\"created_on\":\"2016-12-17T15:41:46+00:00\",\"product_name\":\"Vest - white/grey\",\"price\":12.99,\"taxful_price\":12.99,\"base_unit_price\":12.99}]</td>\n",
       "      <td>Jumper - khaki</td>\n",
       "    </tr>\n",
       "  </tbody>\n",
       "</table>\n",
       "</div>"
      ],
      "text/plain": [
       "                                                                                                                                                                                                                                                                                                                                                                                                                                                                                                                                                                                                                                                                                                                                                                                                                                                                                                                                                                                                                                                                                                                                                                                                                                                                                                                                                                                                                                                                                                                                                                                                                                                                                                                                                                              products  \\\n",
       "0                                                                                                                                                                                                                                                                                                                                                                                                                                                                                                                                                                                                                                                                                                                                                                                                                                                                                                 [{\"base_price\":9.99,\"discount_percentage\":0,\"quantity\":1,\"manufacturer\":\"Spherecords\",\"tax_amount\":0,\"product_id\":21108,\"category\":\"Women's Clothing\",\"sku\":\"ZO0635406354\",\"taxless_price\":9.99,\"unit_discount_amount\":0,\"min_price\":5,\"_id\":\"sold_product_572956_21108\",\"discount_amount\":0,\"created_on\":\"2016-12-17T16:12:00+00:00\",\"product_name\":\"Jersey dress - black\",\"price\":9.99,\"taxful_price\":9.99,\"base_unit_price\":9.99},{\"base_price\":49.99,\"discount_percentage\":0,\"quantity\":1,\"manufacturer\":\"Oceanavigations\",\"tax_amount\":0,\"product_id\":17895,\"category\":\"Women's Clothing\",\"sku\":\"ZO0267202672\",\"taxless_price\":49.99,\"unit_discount_amount\":0,\"min_price\":25,\"_id\":\"sold_product_572956_17895\",\"discount_amount\":0,\"created_on\":\"2016-12-17T16:12:00+00:00\",\"product_name\":\"Bomber Jacket - black\",\"price\":49.99,\"taxful_price\":49.99,\"base_unit_price\":49.99}]   \n",
       "1                                                                                                                                                                                                                                                                                                                                                                                                                                                                                                                                                                                                                                                                                                                                                                                                                                                                                           [{\"base_price\":49.99,\"discount_percentage\":0,\"quantity\":1,\"manufacturer\":\"Low Tide Media\",\"tax_amount\":0,\"product_id\":21327,\"category\":\"Men's Shoes\",\"sku\":\"ZO0398203982\",\"taxless_price\":49.99,\"unit_discount_amount\":0,\"min_price\":26.49,\"_id\":\"sold_product_572949_21327\",\"discount_amount\":0,\"created_on\":\"2016-12-17T16:03:22+00:00\",\"product_name\":\"Boots - black\",\"price\":49.99,\"taxful_price\":49.99,\"base_unit_price\":49.99},{\"base_price\":10.99,\"discount_percentage\":0,\"quantity\":1,\"manufacturer\":\"Low Tide Media\",\"tax_amount\":0,\"product_id\":21164,\"category\":\"Men's Clothing\",\"sku\":\"ZO0436904369\",\"taxless_price\":10.99,\"unit_discount_amount\":0,\"min_price\":5.93,\"_id\":\"sold_product_572949_21164\",\"discount_amount\":0,\"created_on\":\"2016-12-17T16:03:22+00:00\",\"product_name\":\"Long sleeved top - dark blue\",\"price\":10.99,\"taxful_price\":10.99,\"base_unit_price\":10.99}]   \n",
       "2  [{\"base_price\":64.99,\"discount_percentage\":0,\"quantity\":1,\"manufacturer\":\"Primemaster\",\"tax_amount\":0,\"product_id\":25099,\"category\":\"Women's Shoes\",\"sku\":\"ZO0359603596\",\"taxless_price\":64.99,\"unit_discount_amount\":0,\"min_price\":34.44,\"_id\":\"sold_product_729864_25099\",\"discount_amount\":0,\"created_on\":\"2016-12-17T16:00:29+00:00\",\"product_name\":\"Classic heels - petrol\",\"price\":64.99,\"taxful_price\":64.99,\"base_unit_price\":64.99},{\"base_price\":84.99,\"discount_percentage\":0,\"quantity\":1,\"manufacturer\":\"Angeldale\",\"tax_amount\":0,\"product_id\":17820,\"category\":\"Women's Shoes\",\"sku\":\"ZO0673706737\",\"taxless_price\":84.99,\"unit_discount_amount\":0,\"min_price\":39.95,\"_id\":\"sold_product_729864_17820\",\"discount_amount\":0,\"created_on\":\"2016-12-17T16:00:29+00:00\",\"product_name\":\"Platform boots - black\",\"price\":84.99,\"taxful_price\":84.99,\"base_unit_price\":84.99},{\"base_price\":59.99,\"discount_percentage\":0,\"quantity\":1,\"manufacturer\":\"Low Tide Media\",\"tax_amount\":0,\"product_id\":5468,\"category\":\"Women's Shoes\",\"sku\":\"ZO0378103781\",\"taxless_price\":59.99,\"unit_discount_amount\":0,\"min_price\":28.2,\"_id\":\"sold_product_729864_5468\",\"discount_amount\":0,\"created_on\":\"2016-12-17T16:00:29+00:00\",\"product_name\":\"Ankle boots - cognac\",\"price\":59.99,\"taxful_price\":59.99,\"base_unit_price\":59.99},{\"base_price\":32.99,\"discount_percentage\":0,\"quantity\":1,\"manufacturer\":\"Tigress Enterprises\",\"tax_amount\":0,\"product_id\":14482,\"category\":\"Women's Accessories\",\"sku\":\"ZO0093700937\",\"taxless_price\":32.99,\"unit_discount_amount\":0,\"min_price\":16.5,\"_id\":\"sold_product_729864_14482\",\"discount_amount\":0,\"created_on\":\"2016-12-17T16:00:29+00:00\",\"product_name\":\"Handbag - black\",\"price\":32.99,\"taxful_price\":32.99,\"base_unit_price\":32.99}]   \n",
       "3                                                                                                                                                                                                                                                                                                                                                                                                                                                                                                                                                                                                                                                                                                                                                                                                                                                                           [{\"base_price\":32.99,\"discount_percentage\":0,\"quantity\":1,\"manufacturer\":\"Tigress Enterprises\",\"tax_amount\":0,\"product_id\":12758,\"category\":\"Women's Clothing\",\"sku\":\"ZO0037800378\",\"taxless_price\":32.99,\"unit_discount_amount\":0,\"min_price\":16.82,\"_id\":\"sold_product_572928_12758\",\"discount_amount\":0,\"created_on\":\"2016-12-17T15:43:12+00:00\",\"product_name\":\"Summer dress - navy/white\",\"price\":32.99,\"taxful_price\":32.99,\"base_unit_price\":32.99},{\"base_price\":32.99,\"discount_percentage\":0,\"quantity\":1,\"manufacturer\":\"Pyramidustries\",\"tax_amount\":0,\"product_id\":14311,\"category\":\"Women's Shoes\",\"sku\":\"ZO0132701327\",\"taxless_price\":32.99,\"unit_discount_amount\":0,\"min_price\":16.82,\"_id\":\"sold_product_572928_14311\",\"discount_amount\":0,\"created_on\":\"2016-12-17T15:43:12+00:00\",\"product_name\":\"Platform heels - white\",\"price\":32.99,\"taxful_price\":32.99,\"base_unit_price\":32.99}]   \n",
       "4                                                                                                                                                                                                                                                                                                                                                                                                                                                                                                                                                                                                                                                                                                                                                                                                                                                                                                    [{\"base_price\":24.99,\"discount_percentage\":0,\"quantity\":1,\"manufacturer\":\"Elitelligence\",\"tax_amount\":0,\"product_id\":15551,\"category\":\"Men's Clothing\",\"sku\":\"ZO0577505775\",\"taxless_price\":24.99,\"unit_discount_amount\":0,\"min_price\":13.24,\"_id\":\"sold_product_572927_15551\",\"discount_amount\":0,\"created_on\":\"2016-12-17T15:41:46+00:00\",\"product_name\":\"Jumper - khaki\",\"price\":24.99,\"taxful_price\":24.99,\"base_unit_price\":24.99},{\"base_price\":12.99,\"discount_percentage\":0,\"quantity\":1,\"manufacturer\":\"Elitelligence\",\"tax_amount\":0,\"product_id\":18321,\"category\":\"Men's Clothing\",\"sku\":\"ZO0557905579\",\"taxless_price\":12.99,\"unit_discount_amount\":0,\"min_price\":7.14,\"_id\":\"sold_product_572927_18321\",\"discount_amount\":0,\"created_on\":\"2016-12-17T15:41:46+00:00\",\"product_name\":\"Vest - white/grey\",\"price\":12.99,\"taxful_price\":12.99,\"base_unit_price\":12.99}]   \n",
       "\n",
       "                product_name  \n",
       "0       Jersey dress - black  \n",
       "1              Boots - black  \n",
       "2     Classic heels - petrol  \n",
       "3  Summer dress - navy/white  \n",
       "4             Jumper - khaki  "
      ]
     },
     "execution_count": 18,
     "metadata": {},
     "output_type": "execute_result"
    }
   ],
   "source": [
    "import ast\n",
    "\n",
    "# Função para extrair o nome do primeiro produto da lista\n",
    "def extract_product_name(product_info):\n",
    "    try:\n",
    "        # Converter a string para uma lista de dicionários\n",
    "        product_list = ast.literal_eval(product_info)\n",
    "\n",
    "        # Se for uma lista e não estiver vazia, pegar o nome do primeiro produto\n",
    "        if isinstance(product_list, list) and len(product_list) > 0:\n",
    "            return product_list[0].get('product_name', 'desconhecido')  # Caso não tenha o nome, preencher com 'desconhecido'\n",
    "        else:\n",
    "            return 'desconhecido'\n",
    "    except:\n",
    "        return 'desconhecido'  # Caso ocorra erro, preencher com 'desconhecido'\n",
    "\n",
    "# Aplicar a função na coluna de produtos\n",
    "df['product_name'] = df['products'].apply(extract_product_name)\n",
    "\n",
    "# Conferir os primeiros valores\n",
    "df[['products', 'product_name']].head()\n"
   ]
  },
  {
   "cell_type": "markdown",
   "metadata": {
    "id": "W5ufGQkOod6f"
   },
   "source": [
    "# **Atividade 3: Análise Exploratória e Visualização de Dados**\n",
    "\n",
    "## **Objetivo**\n",
    "Nesta atividade, vamos explorar os dados visualmente e analisar padrões e tendências no dataset de vendas. O foco será:\n",
    "- Analisar a distribuição dos valores das compras.\n",
    "- Explorar categorias e produtos mais vendidos.\n",
    "- Identificar padrões de vendas ao longo do tempo.\n",
    "- Construir uma matriz de correlação com as variáveis numéricas disponíveis.\n",
    "\n",
    "\n"
   ]
  },
  {
   "cell_type": "markdown",
   "metadata": {
    "id": "iKSanppEouMo"
   },
   "source": [
    "## **Distribuição dos Valores de Pagamento**"
   ]
  },
  {
   "cell_type": "code",
   "execution_count": 19,
   "metadata": {
    "colab": {
     "base_uri": "https://localhost:8080/",
     "height": 487
    },
    "id": "I_n0zGy3ow7c",
    "outputId": "c3a11199-9ac9-4fb2-8954-b63d8bbac1bd"
   },
   "outputs": [
    {
     "data": {
      "image/png": "[encoded data removed]",
      "text/plain": [
       "<Figure size 800x500 with 1 Axes>"
      ]
     },
     "metadata": {},
     "output_type": "display_data"
    }
   ],
   "source": [
    "# Criar um histograma para visualizar a distribuição dos valores de pagamento\n",
    "plt.figure(figsize=(8, 5))\n",
    "sns.histplot(df['taxless_total_price'], bins=50, kde=True)\n",
    "plt.xlabel('Valor do Pagamento')\n",
    "plt.ylabel('Frequência')\n",
    "plt.title('Distribuição do Valor dos Pagamentos')\n",
    "plt.show()\n"
   ]
  },
  {
   "cell_type": "markdown",
   "metadata": {
    "id": "clzoB80ArQYs"
   },
   "source": [
    "**Interpretação**\n",
    "\n",
    "A maioria dos pagamentos está concentrada em valores menores?\n",
    "Existem valores extremos que indicam pedidos de alto valor?"
   ]
  },
  {
   "cell_type": "markdown",
   "metadata": {
    "id": "4I7cr1d_tAJf"
   },
   "source": [
    "## **Análise das Categorias Mais Vendidas**"
   ]
  },
  {
   "cell_type": "code",
   "execution_count": 20,
   "metadata": {
    "colab": {
     "base_uri": "https://localhost:8080/",
     "height": 706
    },
    "id": "fDsrbSqzrSW1",
    "outputId": "e86f3f1d-07f2-46ba-d74e-634b42b00a62"
   },
   "outputs": [
    {
     "data": {
      "image/png": "[encoded data removed]",
      "text/plain": [
       "<Figure size 1000x500 with 1 Axes>"
      ]
     },
     "metadata": {},
     "output_type": "display_data"
    }
   ],
   "source": [
    "# Contar as categorias mais frequentes\n",
    "top_categorias = df['category'].value_counts().head(10)\n",
    "\n",
    "# Criar um gráfico de barras\n",
    "plt.figure(figsize=(10, 5))\n",
    "sns.barplot(x=top_categorias.index, y=top_categorias.values)\n",
    "plt.xlabel('Categoria')\n",
    "plt.ylabel('Número de Pedidos')\n",
    "plt.title('Top 10 Categorias Mais Vendidas')\n",
    "plt.xticks(rotation=45)\n",
    "plt.show()\n"
   ]
  },
  {
   "cell_type": "markdown",
   "metadata": {
    "id": "_7eA1yZCs56_"
   },
   "source": [
    "**Interpretação**\n",
    "\n",
    "Alguma categoria domina as vendas?\n",
    "Há categorias com baixa representatividade?"
   ]
  },
  {
   "cell_type": "markdown",
   "metadata": {
    "id": "9mxUm0rrtHq0"
   },
   "source": [
    "## **Análise dos Produtos Mais Vendidos**"
   ]
  },
  {
   "cell_type": "code",
   "execution_count": 21,
   "metadata": {
    "colab": {
     "base_uri": "https://localhost:8080/",
     "height": 619
    },
    "id": "nZ8_XleFs71n",
    "outputId": "12d07167-40f9-47f0-d05a-aad84e7bfe8e"
   },
   "outputs": [
    {
     "data": {
      "image/png": "[encoded data removed]",
      "text/plain": [
       "<Figure size 1000x500 with 1 Axes>"
      ]
     },
     "metadata": {},
     "output_type": "display_data"
    }
   ],
   "source": [
    "# Contar os produtos mais vendidos\n",
    "top_produtos = df['product_name'].value_counts().head(10)\n",
    "\n",
    "# Criar um gráfico de barras\n",
    "plt.figure(figsize=(10, 5))\n",
    "sns.barplot(x=top_produtos.index, y=top_produtos.values)\n",
    "plt.xlabel('Produto')\n",
    "plt.ylabel('Número de Pedidos')\n",
    "plt.title('Top 10 Produtos Mais Vendidos')\n",
    "plt.xticks(rotation=45)\n",
    "plt.show()\n"
   ]
  },
  {
   "cell_type": "markdown",
   "metadata": {
    "id": "ozl97i_dxf32"
   },
   "source": [
    "Quais produtos lideram as vendas?\n",
    "\n",
    "Algum produto vende muito mais que os outros?\n",
    "\n",
    "Existe diversidade ou concentração?\n",
    "\n",
    "As vendas estão distribuídas entre vários produtos ou um pequeno grupo domina?\n",
    "\n",
    "Há padrões esperados?\n",
    "\n",
    "Algum tipo de produto (exemplo: roupas, eletrônicos) aparece mais?"
   ]
  },
  {
   "cell_type": "markdown",
   "metadata": {
    "id": "it0aTkSMzGS_"
   },
   "source": [
    "## **Análise Temporal das Vendas**"
   ]
  },
  {
   "cell_type": "code",
   "execution_count": 22,
   "metadata": {
    "colab": {
     "base_uri": "https://localhost:8080/"
    },
    "id": "oJ9wEvTt8IYQ",
    "outputId": "164d59c0-ec83-4940-bbba-c01d5e173a0f"
   },
   "outputs": [
    {
     "name": "stdout",
     "output_type": "stream",
     "text": [
      "Data mínima: 2019-03-29 16:23:31\n",
      "Data máxima: 2019-03-30 16:12:00\n",
      "Número de dias distintos no dataset: 2\n"
     ]
    }
   ],
   "source": [
    "# Verificar as datas mínimas e máximas no dataset\n",
    "print(\"Data mínima:\", df['order_date'].min())\n",
    "print(\"Data máxima:\", df['order_date'].max())\n",
    "\n",
    "# Contar quantos dias distintos existem\n",
    "dias_unicos = df['order_date'].dt.date.nunique()\n",
    "print(f\"Número de dias distintos no dataset: {dias_unicos}\")\n"
   ]
  },
  {
   "cell_type": "markdown",
   "metadata": {
    "id": "5ar_NINL8t98"
   },
   "source": [
    "Como temos apenas dois dias distintos, pode ser mais útil analisar como os pedidos foram distribuídos ao longo das horas."
   ]
  },
  {
   "cell_type": "code",
   "execution_count": 23,
   "metadata": {
    "colab": {
     "base_uri": "https://localhost:8080/"
    },
    "id": "9uFDOpUGExtq",
    "outputId": "9cb50672-3087-45b6-a7a0-60af299158e5"
   },
   "outputs": [
    {
     "name": "stdout",
     "output_type": "stream",
     "text": [
      "           order_date  order_hour\n",
      "0 2019-03-30 16:12:00          16\n",
      "1 2019-03-30 16:03:22          16\n",
      "2 2019-03-30 16:00:29          16\n",
      "3 2019-03-30 15:43:12          15\n",
      "4 2019-03-30 15:41:46          15\n"
     ]
    }
   ],
   "source": [
    "df['order_date'] = pd.to_datetime(df['order_date'], errors='coerce')\n",
    "\n",
    "# Criar a coluna 'order_hour' extraindo a hora da compra\n",
    "df['order_hour'] = df['order_date'].dt.hour\n",
    "\n",
    "df['order_day'] = df['order_date'].dt.day\n",
    "\n",
    "\n",
    "# Verificar se a coluna foi criada corretamente\n",
    "print(df[['order_date', 'order_hour']].head())\n"
   ]
  },
  {
   "cell_type": "code",
   "execution_count": 24,
   "metadata": {
    "colab": {
     "base_uri": "https://localhost:8080/",
     "height": 489
    },
    "id": "vf3T_bpP8uoM",
    "outputId": "1ec9811c-6362-4d12-d251-1af3cc1dabb7"
   },
   "outputs": [
    {
     "data": {
      "text/plain": [
       "<Figure size 1000x500 with 0 Axes>"
      ]
     },
     "metadata": {},
     "output_type": "display_data"
    },
    {
     "data": {
      "image/png": "[encoded data removed]",
      "text/plain": [
       "<Figure size 640x480 with 1 Axes>"
      ]
     },
     "metadata": {},
     "output_type": "display_data"
    }
   ],
   "source": [
    "\n",
    "import numpy as np\n",
    "import matplotlib.pyplot as plt\n",
    "\n",
    "# Criar um DataFrame com todas as horas do dia 29 e 30\n",
    "todas_as_horas = pd.DataFrame({'order_hour': np.arange(0, 24)})\n",
    "\n",
    "# Criar uma versão formatada do DataFrame original\n",
    "orders_per_hour_reset = df.groupby(['order_day', 'order_hour']).size().unstack(level=0).reset_index()\n",
    "\n",
    "# Fazer um merge para garantir que todas as horas apareçam no gráfico\n",
    "orders_per_hour_corrigido = todas_as_horas.merge(orders_per_hour_reset, on='order_hour', how='left').set_index('order_hour')\n",
    "\n",
    "# Preencher valores ausentes com zero (horas sem vendas)\n",
    "orders_per_hour_corrigido.fillna(0, inplace=True)\n",
    "\n",
    "# Criar gráfico corrigido\n",
    "plt.figure(figsize=(10, 5))\n",
    "orders_per_hour_corrigido.plot(marker='o', linestyle='-')\n",
    "plt.xlabel('Hora do Dia')\n",
    "plt.ylabel('Número de Pedidos')\n",
    "plt.title('Distribuição de Vendas por Hora nos Dois Dias (Corrigido)')\n",
    "plt.xticks(range(0, 24))\n",
    "plt.legend(title=\"Data\", bbox_to_anchor=(1.05, 1), loc='upper left')\n",
    "plt.grid(True)\n",
    "plt.show()\n",
    "\n",
    "\n"
   ]
  },
  {
   "cell_type": "markdown",
   "metadata": {
    "id": "rchYAZ6iG2x5"
   },
   "source": [
    "\n",
    "## **Atividade 5: Insights e Tomada de Decisão**\n",
    "Agora que temos um **dashboard interativo** com diversas visualizações, vamos extrair **insights valiosos** e sugerir possíveis **ações estratégicas**.\n",
    "\n",
    "\n",
    "\n",
    "### **1. Análise da Distribuição de Valores de Compras**\n",
    "- **O que observamos?**\n",
    "  - O histograma dos valores das compras mostra a **distribuição do ticket médio**.\n",
    "  - Se a maioria dos pedidos tem valores baixos, pode ser um indicativo de que os clientes preferem compras menores.\n",
    "\n",
    "- **O que pode ser feito?**\n",
    "  - **Criar estratégias para aumentar o ticket médio**, como **descontos progressivos** ou **frete grátis acima de um valor mínimo**.\n",
    "  - **Oferecer combos e pacotes promocionais** para incentivar compras maiores.\n",
    "\n",
    "\n",
    "### **2. Análise dos Produtos e Categorias Mais Vendidos**\n",
    "- **O que observamos?**\n",
    "  - Algumas categorias e produtos dominam as vendas, enquanto outros têm pouca representatividade.\n",
    "  - Se houver grande concentração em poucos produtos, pode ser um sinal de **dependência de certos itens**.\n",
    "\n",
    "- **O que pode ser feito?**\n",
    "  - **Expandir o mix de produtos** para oferecer mais variedade.\n",
    "  - **Fazer campanhas de marketing para categorias menos vendidas**, incentivando sua compra.\n",
    "  - **Manter estoque reforçado nos produtos mais vendidos**, evitando rupturas.\n",
    "\n",
    "\n",
    "### **3. Análise Temporal das Vendas**\n",
    "- **O que observamos?**\n",
    "  - As vendas **variam ao longo do dia**, com picos e quedas em horários específicos.\n",
    "  - Se as vendas ocorrem mais em determinados períodos, pode ser um reflexo de **comportamento do consumidor** ou **ações promocionais ativas nesses horários**.\n",
    "\n",
    "- **O que pode ser feito?**\n",
    "  - **Ajustar estratégias de marketing e promoções para os horários de maior venda**.\n",
    "  - **Reforçar atendimento e logística nos horários de pico** para melhorar a experiência do cliente.\n",
    "  - **Oferecer descontos específicos nos horários de baixa demanda** para estimular compras.\n",
    "\n",
    "\n",
    "\n",
    "### **4. Matriz de Correlação – Relação entre Variáveis**\n",
    "- **O que observamos?**\n",
    "  - Correlações entre número de produtos, ticket médio e horário da compra podem indicar padrões de comportamento.\n",
    "  - Se houver correlação entre **dias da semana e ticket médio**, pode-se explorar promoções específicas nesses dias.\n",
    "\n",
    "- **O que pode ser feito?**\n",
    "  - **Ajustar preços e ofertas com base nos dias e horários de maior ticket médio**.\n",
    "  - **Analisar sazonalidade** e criar campanhas promocionais focadas nas melhores oportunidades de vendas.\n",
    "\n",
    "\n",
    "\n",
    "## **Conclusão**\n",
    "A partir dos insights obtidos, podemos propor **ações estratégicas** para otimizar as vendas, melhorar a experiência do cliente e aumentar a eficiência operacional.  \n",
    "\n",
    "\n",
    "\n"
   ]
  },
  {
   "cell_type": "markdown",
   "metadata": {
    "id": "iLazCnXnIML6"
   },
   "source": [
    "# **Atividade Extra: Análise Exploratória de Transações Bancárias e Detecção de Fraudes**\n",
    "\n",
    "## **Objetivo**\n",
    "Nesta atividade, você realizará uma **análise exploratória de dados (EDA)** em um dataset de **transações bancárias**, identificando padrões de comportamento e investigando **fraudes financeiras**.\n",
    "\n",
    "\n",
    "## **Passo 1: Importação das Bibliotecas**\n",
    "Vamos carregar as bibliotecas necessárias para manipulação e visualização dos dados.\n"
   ]
  },
  {
   "cell_type": "code",
   "execution_count": null,
   "metadata": {
    "id": "rOfV6JQBINAZ"
   },
   "outputs": [],
   "source": []
  },
  {
   "cell_type": "markdown",
   "metadata": {
    "id": "mAbrZqIpIRU8"
   },
   "source": [
    "## **Passo 2: Carregar o Dataset**\n",
    "O dataset pode ser baixado no seguinte link:  \n",
    "[Credit Card Fraud Detection Dataset - Kaggle](https://www.kaggle.com/mlg-ulb/creditcardfraud)\n",
    "\n",
    "Após baixar o arquivo `creditcard.csv`, faça o upload para o Google Colab.\n",
    "\n"
   ]
  },
  {
   "cell_type": "markdown",
   "metadata": {
    "id": "PeClS5reIX8y"
   },
   "source": [
    "## **Passo 3: Inspecionar a Estrutura dos Dados**\n",
    "Agora, verificamos o formato do dataset e suas estatísticas básicas."
   ]
  },
  {
   "cell_type": "code",
   "execution_count": null,
   "metadata": {
    "id": "_ya3lWrVIY8v"
   },
   "outputs": [],
   "source": []
  },
  {
   "cell_type": "markdown",
   "metadata": {
    "id": "GIpYGkgeIcRp"
   },
   "source": [
    "## **Passo 4: Análise da Distribuição dos Valores das Transações**\n",
    "Vamos verificar como os valores das transações estão distribuídos."
   ]
  },
  {
   "cell_type": "code",
   "execution_count": null,
   "metadata": {
    "id": "m2NG8lxrIdJn"
   },
   "outputs": [],
   "source": []
  },
  {
   "cell_type": "markdown",
   "metadata": {
    "id": "CYnifWYMIgLF"
   },
   "source": [
    "\n",
    "### **Interpretação**\n",
    "- A maioria das transações possui valores baixos ou há grande variação?\n",
    "- Existem valores extremamente altos que podem indicar fraudes?\n"
   ]
  },
  {
   "cell_type": "markdown",
   "metadata": {
    "id": "L6ZKcMI1IkLS"
   },
   "source": [
    "\n",
    "## **Passo 5: Análise Temporal das Transações**\n",
    "Vamos verificar o comportamento das transações ao longo do tempo.\n"
   ]
  },
  {
   "cell_type": "code",
   "execution_count": null,
   "metadata": {
    "id": "qlkPubu6Ik6-"
   },
   "outputs": [],
   "source": []
  },
  {
   "cell_type": "markdown",
   "metadata": {
    "id": "gOpdLxNbIneV"
   },
   "source": [
    "### **Interpretação**\n",
    "- As transações seguem um padrão ao longo do dia?\n",
    "- Há momentos específicos com aumento no valor das transações?\n"
   ]
  },
  {
   "cell_type": "markdown",
   "metadata": {
    "id": "ZBHEZ7rqIsZr"
   },
   "source": [
    "## **Passo 6: Identificação de Fraudes**\n",
    "Vamos verificar a proporção de transações fraudulentas (`Class = 1`) e não fraudulentas (`Class = 0`).\n"
   ]
  },
  {
   "cell_type": "code",
   "execution_count": null,
   "metadata": {
    "id": "n9jHpgaYI0pp"
   },
   "outputs": [],
   "source": []
  },
  {
   "cell_type": "markdown",
   "metadata": {
    "id": "t9o6kBsTIvQl"
   },
   "source": [
    "### **Interpretação**\n",
    "- Quantas transações fraudulentas existem em relação às normais?\n",
    "- As fraudes representam uma pequena parcela do total?\n",
    "\n"
   ]
  },
  {
   "cell_type": "markdown",
   "metadata": {
    "id": "WT1IdKbFIy9N"
   },
   "source": [
    "## **Passo 7: Correlação entre as Variáveis**\n",
    "Agora, analisamos como as variáveis se relacionam.\n"
   ]
  },
  {
   "cell_type": "code",
   "execution_count": null,
   "metadata": {
    "id": "fKwaiHklIzZd"
   },
   "outputs": [],
   "source": []
  },
  {
   "cell_type": "markdown",
   "metadata": {
    "id": "0lqg4o5FI4zA"
   },
   "source": [
    "### **Interpretação**\n",
    "- O valor da transação (`Amount`) tem correlação com a fraude?\n",
    "- O tempo (`Time`) influencia na ocorrência de fraudes?\n",
    "\n"
   ]
  },
  {
   "cell_type": "markdown",
   "metadata": {
    "id": "HO0mZgCeHA9z"
   },
   "source": [
    "\n",
    "\n",
    "\n",
    "\n",
    "## **Conclusão**\n",
    "Nesta atividade, analisamos um dataset de transações bancárias e identificamos padrões como:\n",
    "- **Distribuição dos valores das transações** e possíveis outliers.\n",
    "- **Picos de transações ao longo do tempo**.\n",
    "- **Proporção de fraudes e transações normais**.\n",
    "- **Correlação entre variáveis**.\n",
    "\n",
    "Agora, responda:\n",
    "- Quais insights podem ser extraídos dos padrões de fraude?\n",
    "- Como os bancos poderiam melhorar a detecção de fraudes baseando-se nessa análise?\n",
    "\n"
   ]
  },
  {
   "cell_type": "code",
   "execution_count": null,
   "metadata": {
    "id": "edrYp_r_HAAb"
   },
   "outputs": [],
   "source": []
  }
 ],
 "metadata": {
  "colab": {
   "provenance": []
  },
  "kernelspec": {
   "display_name": "Python 3",
   "language": "python",
   "name": "python3"
  },
  "language_info": {
   "codemirror_mode": {
    "name": "ipython",
    "version": 3
   },
   "file_extension": ".py",
   "mimetype": "text/x-python",
   "name": "python",
   "nbconvert_exporter": "python",
   "pygments_lexer": "ipython3",
   "version": "3.13.2"
  }
 },
 "nbformat": 4,
 "nbformat_minor": 1
}
